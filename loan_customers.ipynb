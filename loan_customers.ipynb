{
  "cells": [
    {
      "cell_type": "markdown",
      "id": "553dbe77",
      "metadata": {
        "id": "553dbe77"
      },
      "source": [
        "Author: Gusti Muhammad Aulia Nur Sulthan"
      ]
    },
    {
      "cell_type": "markdown",
      "id": "abf05cad",
      "metadata": {
        "id": "abf05cad"
      },
      "source": [
        "# Import Libraries"
      ]
    },
    {
      "cell_type": "code",
      "execution_count": 1,
      "id": "895f458c",
      "metadata": {
        "id": "895f458c"
      },
      "outputs": [],
      "source": [
        "import gdown\n",
        "import pandas as pd\n",
        "import numpy as np\n",
        "import seaborn as sns\n",
        "\n",
        "from scipy.stats import zscore\n",
        "import matplotlib\n",
        "from matplotlib import pyplot as plt\n",
        "from matplotlib import rcParams\n",
        "%matplotlib inline"
      ]
    },
    {
      "cell_type": "code",
      "execution_count": 2,
      "id": "v1MQ7-nnEyRr",
      "metadata": {
        "id": "v1MQ7-nnEyRr"
      },
      "outputs": [
        {
          "name": "stdout",
          "output_type": "stream",
          "text": [
            "3.5.2\n"
          ]
        }
      ],
      "source": [
        "print(matplotlib.__version__)\n",
        "# Set Ploting Style\n",
        "\n",
        "# Style MatplotLib\n",
        "plt.style.use('fivethirtyeight')\n",
        "plt.rcParams['axes.prop_cycle'] = plt.rcParamsDefault['axes.prop_cycle']\n",
        "plt.rcParams[\"font.family\"] = \"monospace\"\n",
        "\n",
        "# Palette colors\n",
        "palette_colors = sns.color_palette(\"coolwarm\")"
      ]
    },
    {
      "cell_type": "markdown",
      "id": "oO86wuVmvT15",
      "metadata": {
        "id": "oO86wuVmvT15"
      },
      "source": [
        "# Download Datasets"
      ]
    },
    {
      "cell_type": "code",
      "execution_count": 3,
      "id": "bc091ff6",
      "metadata": {
        "colab": {
          "base_uri": "https://localhost:8080/",
          "height": 105
        },
        "id": "bc091ff6",
        "outputId": "a1dfd8b7-3e18-45fd-e709-24c12bd9d28f"
      },
      "outputs": [
        {
          "name": "stderr",
          "output_type": "stream",
          "text": [
            "Downloading...\n",
            "From: https://drive.google.com/uc?id=1oR9M0UOqzP4wlGNzOpPVP6uj8RaX9d0I\n",
            "To: e:\\Code-Stuff\\Machine Learning\\EDA\\loan_customer_analysis\\loan_customer.csv\n",
            "100%|██████████| 64.6k/64.6k [00:00<00:00, 2.69MB/s]\n"
          ]
        },
        {
          "data": {
            "text/plain": [
              "'loan_customer.csv'"
            ]
          },
          "execution_count": 3,
          "metadata": {},
          "output_type": "execute_result"
        }
      ],
      "source": [
        "url = 'https://drive.google.com/uc?id=1oR9M0UOqzP4wlGNzOpPVP6uj8RaX9d0I'\n",
        "output = 'loan_customer.csv'\n",
        "gdown.download(url, output, quiet=False)"
      ]
    },
    {
      "cell_type": "markdown",
      "id": "7xE8TjQLriBK",
      "metadata": {
        "id": "7xE8TjQLriBK"
      },
      "source": [
        "# Toolkits "
      ]
    },
    {
      "cell_type": "code",
      "execution_count": 4,
      "id": "kg2Lj4ZIrjfA",
      "metadata": {
        "id": "kg2Lj4ZIrjfA"
      },
      "outputs": [],
      "source": [
        "def check_overal_status(data, temp=list()):\n",
        "  \"\"\"\n",
        "    Return status for dataframe like name feature, data type, total null value,\n",
        "    total unique value, and sample\n",
        "    \n",
        "    Arguments:\n",
        "    \n",
        "    data: DataFrame. Should dataframe from pandas\n",
        "    temp: Temporary or threshold list. Should\n",
        "\n",
        "  \"\"\"\n",
        "  if isinstance(temp, list):\n",
        "    temp.clear()\n",
        "    columns_name = ['Feature', 'Data Type', 'Null Data', 'Number Unique', \n",
        "                    'Samples']\n",
        "    for i in data.columns:\n",
        "      temp.append([i, data[i].dtype, data[i].isna().sum(), \n",
        "                   data[i].nunique(), data[i].unique()])\n",
        "  \n",
        "    dataframe = pd.DataFrame(data=temp, columns=columns_name)\n",
        "  return dataframe\n",
        "\n",
        "\n",
        "def threshold(z,d):\n",
        "  \"\"\"\n",
        "    Return how many loss data with range of threshold\n",
        "\n",
        "    Arguments:\n",
        "    z: Z-score using scipy.stat module\n",
        "    d: DataFrame. Should dataframe from panda\n",
        "\n",
        "  \"\"\"\n",
        "  for i in np.arange(3,5,0.2):\n",
        "    data=d.copy()\n",
        "    data=data[(z<i).all(axis=1)]\n",
        "    loss=(d.shape[0]-data.shape[0])/d.shape[0]*100\n",
        "    print('With threshold {} data loss is {}%'.format(np.round(i,1),np.round(loss,2))) \n",
        "\n",
        "# Lambda function for ploting from len of columns\n",
        "len_column = lambda x: len(x)//2 if len(x) % 2 == 0 else (len(x)+1)//2 "
      ]
    },
    {
      "cell_type": "markdown",
      "id": "baa49998",
      "metadata": {
        "id": "baa49998"
      },
      "source": [
        "# Load Dataset"
      ]
    },
    {
      "cell_type": "code",
      "execution_count": 5,
      "id": "fA84sWWBxVIR",
      "metadata": {
        "id": "fA84sWWBxVIR"
      },
      "outputs": [],
      "source": [
        "df = pd.read_csv(output)"
      ]
    },
    {
      "cell_type": "markdown",
      "id": "TzZUh4QVxkCS",
      "metadata": {
        "id": "TzZUh4QVxkCS"
      },
      "source": [
        "show 10 sample dataframe"
      ]
    },
    {
      "cell_type": "code",
      "execution_count": 6,
      "id": "gIfpendlxdLU",
      "metadata": {
        "colab": {
          "base_uri": "https://localhost:8080/",
          "height": 462
        },
        "id": "gIfpendlxdLU",
        "outputId": "7baa2466-6be4-41be-f0b6-ef22f3d35c21"
      },
      "outputs": [
        {
          "data": {
            "text/html": [
              "<div>\n",
              "<style scoped>\n",
              "    .dataframe tbody tr th:only-of-type {\n",
              "        vertical-align: middle;\n",
              "    }\n",
              "\n",
              "    .dataframe tbody tr th {\n",
              "        vertical-align: top;\n",
              "    }\n",
              "\n",
              "    .dataframe thead th {\n",
              "        text-align: right;\n",
              "    }\n",
              "</style>\n",
              "<table border=\"1\" class=\"dataframe\">\n",
              "  <thead>\n",
              "    <tr style=\"text-align: right;\">\n",
              "      <th></th>\n",
              "      <th>loan_id</th>\n",
              "      <th>birth_date</th>\n",
              "      <th>phone_number</th>\n",
              "      <th>gender</th>\n",
              "      <th>married</th>\n",
              "      <th>dependents</th>\n",
              "      <th>education</th>\n",
              "      <th>self_employed</th>\n",
              "      <th>applicant_income</th>\n",
              "      <th>coapplicant_income</th>\n",
              "      <th>loan_amount</th>\n",
              "      <th>loan_term_month</th>\n",
              "      <th>loan_term_year</th>\n",
              "      <th>credit_history</th>\n",
              "      <th>has_credit_card</th>\n",
              "      <th>property_type</th>\n",
              "      <th>loan_status</th>\n",
              "    </tr>\n",
              "  </thead>\n",
              "  <tbody>\n",
              "    <tr>\n",
              "      <th>9</th>\n",
              "      <td>LP001020</td>\n",
              "      <td>1983-12-13</td>\n",
              "      <td>6.281187e+11</td>\n",
              "      <td>Male</td>\n",
              "      <td>Yes</td>\n",
              "      <td>1</td>\n",
              "      <td>Graduate</td>\n",
              "      <td>No</td>\n",
              "      <td>12841.0</td>\n",
              "      <td>10968.0</td>\n",
              "      <td>349000</td>\n",
              "      <td>360</td>\n",
              "      <td>30</td>\n",
              "      <td>1.0</td>\n",
              "      <td>NaN</td>\n",
              "      <td>apartment</td>\n",
              "      <td>REJECT</td>\n",
              "    </tr>\n",
              "    <tr>\n",
              "      <th>333</th>\n",
              "      <td>LP002097</td>\n",
              "      <td>1994-12-17</td>\n",
              "      <td>6.281108e+11</td>\n",
              "      <td>Male</td>\n",
              "      <td>No</td>\n",
              "      <td>1</td>\n",
              "      <td>Graduate</td>\n",
              "      <td>No</td>\n",
              "      <td>4384.0</td>\n",
              "      <td>1793.0</td>\n",
              "      <td>117000</td>\n",
              "      <td>360</td>\n",
              "      <td>30</td>\n",
              "      <td>1.0</td>\n",
              "      <td>NaN</td>\n",
              "      <td>house</td>\n",
              "      <td>APPROVE</td>\n",
              "    </tr>\n",
              "    <tr>\n",
              "      <th>552</th>\n",
              "      <td>LP002772</td>\n",
              "      <td>NaN</td>\n",
              "      <td>6.281385e+11</td>\n",
              "      <td>Male</td>\n",
              "      <td>No</td>\n",
              "      <td>0</td>\n",
              "      <td>Graduate</td>\n",
              "      <td>No</td>\n",
              "      <td>2526.0</td>\n",
              "      <td>1783.0</td>\n",
              "      <td>145000</td>\n",
              "      <td>360</td>\n",
              "      <td>30</td>\n",
              "      <td>1.0</td>\n",
              "      <td>NaN</td>\n",
              "      <td>studio</td>\n",
              "      <td>APPROVE</td>\n",
              "    </tr>\n",
              "    <tr>\n",
              "      <th>369</th>\n",
              "      <td>LP002181</td>\n",
              "      <td>1979-03-23</td>\n",
              "      <td>6.281344e+11</td>\n",
              "      <td>Male</td>\n",
              "      <td>No</td>\n",
              "      <td>0</td>\n",
              "      <td>Not Graduate</td>\n",
              "      <td>No</td>\n",
              "      <td>6216.0</td>\n",
              "      <td>0.0</td>\n",
              "      <td>133000</td>\n",
              "      <td>360</td>\n",
              "      <td>30</td>\n",
              "      <td>1.0</td>\n",
              "      <td>NaN</td>\n",
              "      <td>studio</td>\n",
              "      <td>REJECT</td>\n",
              "    </tr>\n",
              "    <tr>\n",
              "      <th>25</th>\n",
              "      <td>LP001066</td>\n",
              "      <td>NaN</td>\n",
              "      <td>6.281156e+11</td>\n",
              "      <td>Male</td>\n",
              "      <td>Yes</td>\n",
              "      <td>0</td>\n",
              "      <td>Graduate</td>\n",
              "      <td>Yes</td>\n",
              "      <td>9560.0</td>\n",
              "      <td>0.0</td>\n",
              "      <td>191000</td>\n",
              "      <td>360</td>\n",
              "      <td>30</td>\n",
              "      <td>1.0</td>\n",
              "      <td>NaN</td>\n",
              "      <td>apartment</td>\n",
              "      <td>APPROVE</td>\n",
              "    </tr>\n",
              "    <tr>\n",
              "      <th>497</th>\n",
              "      <td>LP002571</td>\n",
              "      <td>1988-12-10</td>\n",
              "      <td>6.281179e+11</td>\n",
              "      <td>Male</td>\n",
              "      <td>No</td>\n",
              "      <td>0</td>\n",
              "      <td>Not Graduate</td>\n",
              "      <td>No</td>\n",
              "      <td>3691.0</td>\n",
              "      <td>0.0</td>\n",
              "      <td>110000</td>\n",
              "      <td>360</td>\n",
              "      <td>30</td>\n",
              "      <td>1.0</td>\n",
              "      <td>NaN</td>\n",
              "      <td>studio</td>\n",
              "      <td>APPROVE</td>\n",
              "    </tr>\n",
              "    <tr>\n",
              "      <th>460</th>\n",
              "      <td>LP002455</td>\n",
              "      <td>1983-04-17</td>\n",
              "      <td>6.281157e+11</td>\n",
              "      <td>Male</td>\n",
              "      <td>Yes</td>\n",
              "      <td>2</td>\n",
              "      <td>Graduate</td>\n",
              "      <td>No</td>\n",
              "      <td>NaN</td>\n",
              "      <td>0.0</td>\n",
              "      <td>96000</td>\n",
              "      <td>360</td>\n",
              "      <td>30</td>\n",
              "      <td>1.0</td>\n",
              "      <td>NaN</td>\n",
              "      <td>apartment</td>\n",
              "      <td>APPROVE</td>\n",
              "    </tr>\n",
              "    <tr>\n",
              "      <th>518</th>\n",
              "      <td>LP002648</td>\n",
              "      <td>1971-05-20</td>\n",
              "      <td>6.285642e+11</td>\n",
              "      <td>Male</td>\n",
              "      <td>Yes</td>\n",
              "      <td>0</td>\n",
              "      <td>Graduate</td>\n",
              "      <td>No</td>\n",
              "      <td>2130.0</td>\n",
              "      <td>6666.0</td>\n",
              "      <td>70000</td>\n",
              "      <td>180</td>\n",
              "      <td>15</td>\n",
              "      <td>1.0</td>\n",
              "      <td>NaN</td>\n",
              "      <td>apartment</td>\n",
              "      <td>REJECT</td>\n",
              "    </tr>\n",
              "    <tr>\n",
              "      <th>417</th>\n",
              "      <td>LP002328</td>\n",
              "      <td>1978-08-09</td>\n",
              "      <td>6.287765e+11</td>\n",
              "      <td>Male</td>\n",
              "      <td>Yes</td>\n",
              "      <td>0</td>\n",
              "      <td>Not Graduate</td>\n",
              "      <td>No</td>\n",
              "      <td>6096.0</td>\n",
              "      <td>0.0</td>\n",
              "      <td>218000</td>\n",
              "      <td>360</td>\n",
              "      <td>30</td>\n",
              "      <td>0.0</td>\n",
              "      <td>NaN</td>\n",
              "      <td>studio</td>\n",
              "      <td>REJECT</td>\n",
              "    </tr>\n",
              "    <tr>\n",
              "      <th>584</th>\n",
              "      <td>LP002888</td>\n",
              "      <td>NaN</td>\n",
              "      <td>6.285713e+11</td>\n",
              "      <td>Male</td>\n",
              "      <td>No</td>\n",
              "      <td>0</td>\n",
              "      <td>Graduate</td>\n",
              "      <td>NaN</td>\n",
              "      <td>3182.0</td>\n",
              "      <td>2917.0</td>\n",
              "      <td>161000</td>\n",
              "      <td>360</td>\n",
              "      <td>30</td>\n",
              "      <td>1.0</td>\n",
              "      <td>NaN</td>\n",
              "      <td>house</td>\n",
              "      <td>APPROVE</td>\n",
              "    </tr>\n",
              "  </tbody>\n",
              "</table>\n",
              "</div>"
            ],
            "text/plain": [
              "      loan_id  birth_date  phone_number gender married dependents  \\\n",
              "9    LP001020  1983-12-13  6.281187e+11   Male     Yes          1   \n",
              "333  LP002097  1994-12-17  6.281108e+11   Male      No          1   \n",
              "552  LP002772         NaN  6.281385e+11   Male      No          0   \n",
              "369  LP002181  1979-03-23  6.281344e+11   Male      No          0   \n",
              "25   LP001066         NaN  6.281156e+11   Male     Yes          0   \n",
              "497  LP002571  1988-12-10  6.281179e+11   Male      No          0   \n",
              "460  LP002455  1983-04-17  6.281157e+11   Male     Yes          2   \n",
              "518  LP002648  1971-05-20  6.285642e+11   Male     Yes          0   \n",
              "417  LP002328  1978-08-09  6.287765e+11   Male     Yes          0   \n",
              "584  LP002888         NaN  6.285713e+11   Male      No          0   \n",
              "\n",
              "        education self_employed  applicant_income  coapplicant_income  \\\n",
              "9        Graduate            No           12841.0             10968.0   \n",
              "333      Graduate            No            4384.0              1793.0   \n",
              "552      Graduate            No            2526.0              1783.0   \n",
              "369  Not Graduate            No            6216.0                 0.0   \n",
              "25       Graduate           Yes            9560.0                 0.0   \n",
              "497  Not Graduate            No            3691.0                 0.0   \n",
              "460      Graduate            No               NaN                 0.0   \n",
              "518      Graduate            No            2130.0              6666.0   \n",
              "417  Not Graduate            No            6096.0                 0.0   \n",
              "584      Graduate           NaN            3182.0              2917.0   \n",
              "\n",
              "     loan_amount  loan_term_month  loan_term_year  credit_history  \\\n",
              "9         349000              360              30             1.0   \n",
              "333       117000              360              30             1.0   \n",
              "552       145000              360              30             1.0   \n",
              "369       133000              360              30             1.0   \n",
              "25        191000              360              30             1.0   \n",
              "497       110000              360              30             1.0   \n",
              "460        96000              360              30             1.0   \n",
              "518        70000              180              15             1.0   \n",
              "417       218000              360              30             0.0   \n",
              "584       161000              360              30             1.0   \n",
              "\n",
              "    has_credit_card property_type loan_status  \n",
              "9               NaN     apartment      REJECT  \n",
              "333             NaN         house     APPROVE  \n",
              "552             NaN        studio     APPROVE  \n",
              "369             NaN        studio      REJECT  \n",
              "25              NaN     apartment     APPROVE  \n",
              "497             NaN        studio     APPROVE  \n",
              "460             NaN     apartment     APPROVE  \n",
              "518             NaN     apartment      REJECT  \n",
              "417             NaN        studio      REJECT  \n",
              "584             NaN         house     APPROVE  "
            ]
          },
          "execution_count": 6,
          "metadata": {},
          "output_type": "execute_result"
        }
      ],
      "source": [
        "df.sample(10)"
      ]
    },
    {
      "cell_type": "markdown",
      "id": "cumQdMjJwk_h",
      "metadata": {
        "id": "cumQdMjJwk_h"
      },
      "source": [
        "## Descriptive Statistics\n",
        "Using `dataframe.info()` for prints information about a DataFrame including the index dtype and columns, non-null values and memory usage"
      ]
    },
    {
      "cell_type": "code",
      "execution_count": 7,
      "id": "H_Zky86ixb2I",
      "metadata": {
        "colab": {
          "base_uri": "https://localhost:8080/"
        },
        "id": "H_Zky86ixb2I",
        "outputId": "df970b79-04d1-4d2b-85a8-81da9e657ea9"
      },
      "outputs": [
        {
          "name": "stdout",
          "output_type": "stream",
          "text": [
            "<class 'pandas.core.frame.DataFrame'>\n",
            "RangeIndex: 621 entries, 0 to 620\n",
            "Data columns (total 17 columns):\n",
            " #   Column              Non-Null Count  Dtype  \n",
            "---  ------              --------------  -----  \n",
            " 0   loan_id             621 non-null    object \n",
            " 1   birth_date          572 non-null    object \n",
            " 2   phone_number        569 non-null    float64\n",
            " 3   gender              608 non-null    object \n",
            " 4   married             618 non-null    object \n",
            " 5   dependents          605 non-null    object \n",
            " 6   education           620 non-null    object \n",
            " 7   self_employed       588 non-null    object \n",
            " 8   applicant_income    612 non-null    float64\n",
            " 9   coapplicant_income  621 non-null    float64\n",
            " 10  loan_amount         621 non-null    int64  \n",
            " 11  loan_term_month     621 non-null    int64  \n",
            " 12  loan_term_year      621 non-null    int64  \n",
            " 13  credit_history      570 non-null    float64\n",
            " 14  has_credit_card     88 non-null     object \n",
            " 15  property_type       620 non-null    object \n",
            " 16  loan_status         621 non-null    object \n",
            "dtypes: float64(4), int64(3), object(10)\n",
            "memory usage: 82.6+ KB\n"
          ]
        }
      ],
      "source": [
        "df.info()"
      ]
    },
    {
      "cell_type": "markdown",
      "id": "bxsSFIoex2Io",
      "metadata": {
        "id": "bxsSFIoex2Io"
      },
      "source": [
        "From output:\n",
        "- There are **621** data from dataframe\n",
        "- Dataframe have 3 different data type (object, float, int)\n",
        "- Many of this data has `Null` value\n",
        "- **Class** feature type is **object** which is (APPROVE, REJECT)"
      ]
    },
    {
      "cell_type": "markdown",
      "id": "ZRmJKgU1pYwk",
      "metadata": {
        "id": "ZRmJKgU1pYwk"
      },
      "source": [
        "## Statistical summary"
      ]
    },
    {
      "cell_type": "code",
      "execution_count": 8,
      "id": "ui-Zene383gT",
      "metadata": {
        "colab": {
          "base_uri": "https://localhost:8080/",
          "height": 238
        },
        "id": "ui-Zene383gT",
        "outputId": "9f4f3a19-649b-4017-93d1-32b43cca2253"
      },
      "outputs": [
        {
          "data": {
            "text/html": [
              "<div>\n",
              "<style scoped>\n",
              "    .dataframe tbody tr th:only-of-type {\n",
              "        vertical-align: middle;\n",
              "    }\n",
              "\n",
              "    .dataframe tbody tr th {\n",
              "        vertical-align: top;\n",
              "    }\n",
              "\n",
              "    .dataframe thead th {\n",
              "        text-align: right;\n",
              "    }\n",
              "</style>\n",
              "<table border=\"1\" class=\"dataframe\">\n",
              "  <thead>\n",
              "    <tr style=\"text-align: right;\">\n",
              "      <th></th>\n",
              "      <th>count</th>\n",
              "      <th>mean</th>\n",
              "      <th>std</th>\n",
              "      <th>min</th>\n",
              "      <th>25%</th>\n",
              "      <th>50%</th>\n",
              "      <th>75%</th>\n",
              "      <th>max</th>\n",
              "    </tr>\n",
              "  </thead>\n",
              "  <tbody>\n",
              "    <tr>\n",
              "      <th>applicant_income</th>\n",
              "      <td>612.0</td>\n",
              "      <td>5681.549020</td>\n",
              "      <td>9056.454103</td>\n",
              "      <td>150.0</td>\n",
              "      <td>2874.5</td>\n",
              "      <td>3812.5</td>\n",
              "      <td>5815.75</td>\n",
              "      <td>170578.0</td>\n",
              "    </tr>\n",
              "    <tr>\n",
              "      <th>coapplicant_income</th>\n",
              "      <td>621.0</td>\n",
              "      <td>1616.874267</td>\n",
              "      <td>2915.075138</td>\n",
              "      <td>0.0</td>\n",
              "      <td>0.0</td>\n",
              "      <td>1167.0</td>\n",
              "      <td>2302.00</td>\n",
              "      <td>41667.0</td>\n",
              "    </tr>\n",
              "    <tr>\n",
              "      <th>loan_amount</th>\n",
              "      <td>621.0</td>\n",
              "      <td>145133.655395</td>\n",
              "      <td>84011.115879</td>\n",
              "      <td>9000.0</td>\n",
              "      <td>100000.0</td>\n",
              "      <td>125000.0</td>\n",
              "      <td>165000.00</td>\n",
              "      <td>700000.0</td>\n",
              "    </tr>\n",
              "    <tr>\n",
              "      <th>loan_term_month</th>\n",
              "      <td>621.0</td>\n",
              "      <td>342.608696</td>\n",
              "      <td>64.090837</td>\n",
              "      <td>12.0</td>\n",
              "      <td>360.0</td>\n",
              "      <td>360.0</td>\n",
              "      <td>360.00</td>\n",
              "      <td>480.0</td>\n",
              "    </tr>\n",
              "    <tr>\n",
              "      <th>loan_term_year</th>\n",
              "      <td>621.0</td>\n",
              "      <td>28.550725</td>\n",
              "      <td>5.340903</td>\n",
              "      <td>1.0</td>\n",
              "      <td>30.0</td>\n",
              "      <td>30.0</td>\n",
              "      <td>30.00</td>\n",
              "      <td>40.0</td>\n",
              "    </tr>\n",
              "    <tr>\n",
              "      <th>credit_history</th>\n",
              "      <td>570.0</td>\n",
              "      <td>0.842105</td>\n",
              "      <td>0.364963</td>\n",
              "      <td>0.0</td>\n",
              "      <td>1.0</td>\n",
              "      <td>1.0</td>\n",
              "      <td>1.00</td>\n",
              "      <td>1.0</td>\n",
              "    </tr>\n",
              "  </tbody>\n",
              "</table>\n",
              "</div>"
            ],
            "text/plain": [
              "                    count           mean           std     min       25%  \\\n",
              "applicant_income    612.0    5681.549020   9056.454103   150.0    2874.5   \n",
              "coapplicant_income  621.0    1616.874267   2915.075138     0.0       0.0   \n",
              "loan_amount         621.0  145133.655395  84011.115879  9000.0  100000.0   \n",
              "loan_term_month     621.0     342.608696     64.090837    12.0     360.0   \n",
              "loan_term_year      621.0      28.550725      5.340903     1.0      30.0   \n",
              "credit_history      570.0       0.842105      0.364963     0.0       1.0   \n",
              "\n",
              "                         50%        75%       max  \n",
              "applicant_income      3812.5    5815.75  170578.0  \n",
              "coapplicant_income    1167.0    2302.00   41667.0  \n",
              "loan_amount         125000.0  165000.00  700000.0  \n",
              "loan_term_month        360.0     360.00     480.0  \n",
              "loan_term_year          30.0      30.00      40.0  \n",
              "credit_history           1.0       1.00       1.0  "
            ]
          },
          "execution_count": 8,
          "metadata": {},
          "output_type": "execute_result"
        }
      ],
      "source": [
        "df.drop('phone_number',axis=1).describe().T"
      ]
    },
    {
      "cell_type": "markdown",
      "id": "-1WH78eUpMOs",
      "metadata": {
        "id": "-1WH78eUpMOs"
      },
      "source": [
        "Observation from this statistical summary:\n",
        "- There are 3 feature has symmetricals such as `applicant_income`, `coapplicant_income`, `loan_amount` (Symmetricals when mean > median).\n",
        "- `credit_history` need more investigate."
      ]
    },
    {
      "cell_type": "code",
      "execution_count": 9,
      "id": "6Iwhk15Q9iaQ",
      "metadata": {
        "colab": {
          "base_uri": "https://localhost:8080/",
          "height": 363
        },
        "id": "6Iwhk15Q9iaQ",
        "outputId": "cc9369b1-d648-4f37-dbb0-58e47d4dacde"
      },
      "outputs": [
        {
          "data": {
            "text/html": [
              "<div>\n",
              "<style scoped>\n",
              "    .dataframe tbody tr th:only-of-type {\n",
              "        vertical-align: middle;\n",
              "    }\n",
              "\n",
              "    .dataframe tbody tr th {\n",
              "        vertical-align: top;\n",
              "    }\n",
              "\n",
              "    .dataframe thead th {\n",
              "        text-align: right;\n",
              "    }\n",
              "</style>\n",
              "<table border=\"1\" class=\"dataframe\">\n",
              "  <thead>\n",
              "    <tr style=\"text-align: right;\">\n",
              "      <th></th>\n",
              "      <th>count</th>\n",
              "      <th>unique</th>\n",
              "      <th>top</th>\n",
              "      <th>freq</th>\n",
              "    </tr>\n",
              "  </thead>\n",
              "  <tbody>\n",
              "    <tr>\n",
              "      <th>loan_id</th>\n",
              "      <td>621</td>\n",
              "      <td>616</td>\n",
              "      <td>LP002277</td>\n",
              "      <td>2</td>\n",
              "    </tr>\n",
              "    <tr>\n",
              "      <th>birth_date</th>\n",
              "      <td>572</td>\n",
              "      <td>541</td>\n",
              "      <td>1987-10-18</td>\n",
              "      <td>2</td>\n",
              "    </tr>\n",
              "    <tr>\n",
              "      <th>gender</th>\n",
              "      <td>608</td>\n",
              "      <td>2</td>\n",
              "      <td>Male</td>\n",
              "      <td>495</td>\n",
              "    </tr>\n",
              "    <tr>\n",
              "      <th>married</th>\n",
              "      <td>618</td>\n",
              "      <td>2</td>\n",
              "      <td>Yes</td>\n",
              "      <td>403</td>\n",
              "    </tr>\n",
              "    <tr>\n",
              "      <th>dependents</th>\n",
              "      <td>605</td>\n",
              "      <td>4</td>\n",
              "      <td>0</td>\n",
              "      <td>349</td>\n",
              "    </tr>\n",
              "    <tr>\n",
              "      <th>education</th>\n",
              "      <td>620</td>\n",
              "      <td>2</td>\n",
              "      <td>Graduate</td>\n",
              "      <td>485</td>\n",
              "    </tr>\n",
              "    <tr>\n",
              "      <th>self_employed</th>\n",
              "      <td>588</td>\n",
              "      <td>2</td>\n",
              "      <td>No</td>\n",
              "      <td>506</td>\n",
              "    </tr>\n",
              "    <tr>\n",
              "      <th>has_credit_card</th>\n",
              "      <td>88</td>\n",
              "      <td>2</td>\n",
              "      <td>no</td>\n",
              "      <td>52</td>\n",
              "    </tr>\n",
              "    <tr>\n",
              "      <th>property_type</th>\n",
              "      <td>620</td>\n",
              "      <td>3</td>\n",
              "      <td>apartment</td>\n",
              "      <td>235</td>\n",
              "    </tr>\n",
              "    <tr>\n",
              "      <th>loan_status</th>\n",
              "      <td>621</td>\n",
              "      <td>2</td>\n",
              "      <td>APPROVE</td>\n",
              "      <td>426</td>\n",
              "    </tr>\n",
              "  </tbody>\n",
              "</table>\n",
              "</div>"
            ],
            "text/plain": [
              "                count unique         top freq\n",
              "loan_id           621    616    LP002277    2\n",
              "birth_date        572    541  1987-10-18    2\n",
              "gender            608      2        Male  495\n",
              "married           618      2         Yes  403\n",
              "dependents        605      4           0  349\n",
              "education         620      2    Graduate  485\n",
              "self_employed     588      2          No  506\n",
              "has_credit_card    88      2          no   52\n",
              "property_type     620      3   apartment  235\n",
              "loan_status       621      2     APPROVE  426"
            ]
          },
          "execution_count": 9,
          "metadata": {},
          "output_type": "execute_result"
        }
      ],
      "source": [
        "df.describe(include=object).T"
      ]
    },
    {
      "cell_type": "markdown",
      "id": "XfHDkHsXsJW-",
      "metadata": {
        "id": "XfHDkHsXsJW-"
      },
      "source": [
        "Observation from this statistical summary:\n",
        "- `loan_id` has duplicate data\n",
        "- Many feature has **Missing values**"
      ]
    },
    {
      "cell_type": "markdown",
      "id": "ImKzQgZq2kN5",
      "metadata": {
        "id": "ImKzQgZq2kN5"
      },
      "source": [
        "## Feature Selection"
      ]
    },
    {
      "cell_type": "code",
      "execution_count": 10,
      "id": "R3w1ctS12mfZ",
      "metadata": {
        "id": "R3w1ctS12mfZ"
      },
      "outputs": [],
      "source": [
        "categoric = ['gender', 'married', 'dependents', 'education', 'self_employed',\n",
        "             'has_credit_card', 'property_type']\n",
        "             \n",
        "numeric = [x for x in df.columns if x not in categoric and \n",
        "           x not in ('loan_id', 'birth_date', 'phone_number', 'loan_status')]"
      ]
    },
    {
      "cell_type": "markdown",
      "id": "11i90wGj2K62",
      "metadata": {
        "id": "11i90wGj2K62"
      },
      "source": [
        "## Check Outliers"
      ]
    },
    {
      "cell_type": "code",
      "execution_count": 11,
      "id": "cl1BvJCn2PtR",
      "metadata": {
        "colab": {
          "base_uri": "https://localhost:8080/",
          "height": 433
        },
        "id": "cl1BvJCn2PtR",
        "outputId": "e4c3e988-96e9-4c72-fa33-3baef1c58a12"
      },
      "outputs": [
        {
          "data": {
            "image/png": "[encoded data removed]",
            "text/plain": [
              "<Figure size 1224x432 with 6 Axes>"
            ]
          },
          "metadata": {},
          "output_type": "display_data"
        }
      ],
      "source": [
        "plt.figure(figsize=(17,6)) \n",
        "for i in range(0, len(numeric)):\n",
        "  plt.subplot(1, len(numeric), i+1)\n",
        "  sns.boxplot(y=df[numeric[i]], color='blue', orient='v')\n",
        "  plt.tight_layout()"
      ]
    },
    {
      "cell_type": "markdown",
      "id": "3c_rEzvK2Qou",
      "metadata": {
        "id": "3c_rEzvK2Qou"
      },
      "source": [
        "Observation from this:\n",
        "- many feature has outliers such as `applicant_income`, `coapplicant_income`, `loan_amount`"
      ]
    },
    {
      "cell_type": "markdown",
      "id": "s5jpCuFoso9j",
      "metadata": {
        "id": "s5jpCuFoso9j"
      },
      "source": [
        "## Visualize Feature"
      ]
    },
    {
      "cell_type": "markdown",
      "id": "SyLQNAwBwELL",
      "metadata": {
        "id": "SyLQNAwBwELL"
      },
      "source": [
        "Numerical columns"
      ]
    },
    {
      "cell_type": "code",
      "execution_count": 12,
      "id": "DmXtFhElssbr",
      "metadata": {
        "colab": {
          "base_uri": "https://localhost:8080/",
          "height": 649
        },
        "id": "DmXtFhElssbr",
        "outputId": "533f1c2b-4eb5-4931-9ec9-011e82a3661c"
      },
      "outputs": [
        {
          "data": {
            "image/png": "[encoded data removed]",
            "text/plain": [
              "<Figure size 1224x648 with 6 Axes>"
            ]
          },
          "metadata": {},
          "output_type": "display_data"
        }
      ],
      "source": [
        "plt.figure(figsize=(17,9))\n",
        "\n",
        "for i in range(0, len(numeric)):\n",
        "  plt.subplot(2,len_column(numeric), i+1)\n",
        "  ax = sns.kdeplot(x=df[numeric[i]], linewidth=1.5, fill=True)\n",
        "  for container in ax.containers:\n",
        "    ax.bar_label(container)\n",
        "  \n",
        "  plt.title(numeric[i].replace('_', ' ').title())\n",
        "  plt.xlabel('')\n",
        "\n",
        "  plt.tight_layout()"
      ]
    },
    {
      "cell_type": "markdown",
      "id": "08fvGMnJvj0r",
      "metadata": {
        "id": "08fvGMnJvj0r"
      },
      "source": [
        "Observation from this:\n",
        "- as expected `applicant_income`, `coapplicant_income`, `loan_amount` has skewwed\n",
        "- after check visualize I realized that `loan_term_month` and `loan_term_years` has skewwed too\n",
        "- `credit_history` only have 2 different value `0` and `1.0`"
      ]
    },
    {
      "cell_type": "markdown",
      "id": "mANTB3lEwCDT",
      "metadata": {
        "id": "mANTB3lEwCDT"
      },
      "source": [
        "Categorical columns"
      ]
    },
    {
      "cell_type": "code",
      "execution_count": 13,
      "id": "FklZNAytwKIG",
      "metadata": {
        "colab": {
          "base_uri": "https://localhost:8080/",
          "height": 721
        },
        "id": "FklZNAytwKIG",
        "outputId": "8e4deb86-976d-40d7-95b1-4ec8fc41b6e3"
      },
      "outputs": [
        {
          "data": {
            "image/png": "[encoded data removed]",
            "text/plain": [
              "<Figure size 1224x720 with 7 Axes>"
            ]
          },
          "metadata": {},
          "output_type": "display_data"
        }
      ],
      "source": [
        "plt.figure(figsize=(17,10))\n",
        "\n",
        "for i in range(0, len(categoric)):\n",
        "  ax = plt.subplot(2,len_column(categoric),i+1)\n",
        "  sns.countplot(data=df, x=categoric[i], palette=palette_colors)\n",
        "  for container in ax.containers:\n",
        "    ax.bar_label(container)\n",
        "  \n",
        "  plt.title(categoric[i].replace('_', ' ').title())\n",
        "  plt.xlabel('')\n",
        "  plt.tight_layout()"
      ]
    },
    {
      "cell_type": "markdown",
      "id": "Zdq4pQeexsh1",
      "metadata": {
        "id": "Zdq4pQeexsh1"
      },
      "source": [
        "Observation from this:\n",
        "- From `gender` Male more than Female \n",
        "- Maried more often take a loan rather than no maried\n",
        "- From `dependents` there are imbalance data which is `0` has more frequency\n",
        "- Many graduate person takes a loan rather than not graduate\n",
        "- Someone who doesn't work more often takes a loan\n",
        "- Apartment have take a loan rathen than other\n",
        "- `has_credit_card` have so much missing value even **no** has high freq"
      ]
    },
    {
      "cell_type": "markdown",
      "id": "RJ9u8TWf3WSo",
      "metadata": {
        "id": "RJ9u8TWf3WSo"
      },
      "source": [
        "## Visualize Class Distribution"
      ]
    },
    {
      "cell_type": "markdown",
      "id": "xmN_DgLq0J17",
      "metadata": {
        "id": "xmN_DgLq0J17"
      },
      "source": [
        "Check distribution of **Class** column"
      ]
    },
    {
      "cell_type": "code",
      "execution_count": 14,
      "id": "1HhJl8En0Xdh",
      "metadata": {
        "colab": {
          "base_uri": "https://localhost:8080/"
        },
        "id": "1HhJl8En0Xdh",
        "outputId": "0e13f513-ba4b-42cc-bcb2-809f8b1c0539"
      },
      "outputs": [
        {
          "name": "stdout",
          "output_type": "stream",
          "text": [
            "Aprroved Status: 426 (68.6%)\n",
            "Rejected Status: 195 (31.4%)\n"
          ]
        }
      ],
      "source": [
        "loan_status = df['loan_status']\n",
        "approved = loan_status.value_counts()[0]\n",
        "rejected = loan_status.value_counts()[1]\n",
        "\n",
        "percentage_approved = round(loan_status.value_counts(normalize=True)[0]*100,2)\n",
        "percentage_rejected = round(loan_status.value_counts(normalize=True)[1]*100,2)\n",
        "\n",
        "print(f'Aprroved Status: {approved} ({percentage_approved}%)')\n",
        "print(f'Rejected Status: {rejected} ({percentage_rejected}%)')"
      ]
    },
    {
      "cell_type": "code",
      "execution_count": 15,
      "id": "aMVQJhke3Cyb",
      "metadata": {
        "colab": {
          "base_uri": "https://localhost:8080/",
          "height": 518
        },
        "id": "aMVQJhke3Cyb",
        "outputId": "573e9b4e-36b6-47be-cf03-1f67698213eb"
      },
      "outputs": [
        {
          "data": {
            "image/png": "[encoded data removed]",
            "text/plain": [
              "<Figure size 1224x576 with 1 Axes>"
            ]
          },
          "metadata": {},
          "output_type": "display_data"
        }
      ],
      "source": [
        "plt.figure(figsize=(17,8))\n",
        "\n",
        "plt.pie([approved, rejected], colors=palette_colors, \n",
        "        autopct='%.0f%%', explode=[0, 0.05])\n",
        "plt.title('Distribution Loan Status', fontsize=20)\n",
        "plt.legend(list(loan_status.unique()), loc=4)\n",
        "plt.show()"
      ]
    },
    {
      "cell_type": "markdown",
      "id": "g0-RfF4H3RVi",
      "metadata": {
        "id": "g0-RfF4H3RVi"
      },
      "source": [
        "Observation from this:\n",
        "- Many of loan are Approved with 426 frequency"
      ]
    },
    {
      "cell_type": "markdown",
      "id": "YDX5AQLB8a-7",
      "metadata": {
        "id": "YDX5AQLB8a-7"
      },
      "source": [
        "## Check Missing Values"
      ]
    },
    {
      "cell_type": "code",
      "execution_count": 16,
      "id": "qyWREc3u3Y6V",
      "metadata": {
        "colab": {
          "base_uri": "https://localhost:8080/"
        },
        "id": "qyWREc3u3Y6V",
        "outputId": "15775d42-48be-47cb-d87b-3551dfde80b1"
      },
      "outputs": [
        {
          "data": {
            "text/plain": [
              "loan_id                 0\n",
              "birth_date             49\n",
              "phone_number           52\n",
              "gender                 13\n",
              "married                 3\n",
              "dependents             16\n",
              "education               1\n",
              "self_employed          33\n",
              "applicant_income        9\n",
              "coapplicant_income      0\n",
              "loan_amount             0\n",
              "loan_term_month         0\n",
              "loan_term_year          0\n",
              "credit_history         51\n",
              "has_credit_card       533\n",
              "property_type           1\n",
              "loan_status             0\n",
              "dtype: int64"
            ]
          },
          "execution_count": 16,
          "metadata": {},
          "output_type": "execute_result"
        }
      ],
      "source": [
        "df.isna().sum()"
      ]
    },
    {
      "cell_type": "markdown",
      "id": "xqEvlqdO3ezx",
      "metadata": {
        "id": "xqEvlqdO3ezx"
      },
      "source": [
        "Observation from this:\n",
        "- Many feature has **Missing value**\n",
        "- The most is `has_credit_card` with 533 items"
      ]
    },
    {
      "cell_type": "markdown",
      "id": "2OnSLz-vA4sD",
      "metadata": {
        "id": "2OnSLz-vA4sD"
      },
      "source": [
        "## Check Duplicate data"
      ]
    },
    {
      "cell_type": "markdown",
      "id": "iubvJ8IcA7Ic",
      "metadata": {
        "id": "iubvJ8IcA7Ic"
      },
      "source": [
        "I preper to check duplicate data on **Identity** so I will use `loan_id` columns"
      ]
    },
    {
      "cell_type": "code",
      "execution_count": 17,
      "id": "PdgxPYFCG-Mo",
      "metadata": {
        "colab": {
          "base_uri": "https://localhost:8080/"
        },
        "id": "PdgxPYFCG-Mo",
        "outputId": "26e2e3fd-c23a-4644-dca8-a3d9ea3e495d"
      },
      "outputs": [
        {
          "name": "stdout",
          "output_type": "stream",
          "text": [
            "Total Duplicate Data: 5\n"
          ]
        }
      ],
      "source": [
        "print('Total Duplicate Data: {}'.format(df['loan_id'].duplicated().sum()))"
      ]
    },
    {
      "cell_type": "markdown",
      "id": "y70dx5PWBpOM",
      "metadata": {
        "id": "y70dx5PWBpOM"
      },
      "source": [
        "found 5 duplicate data lets chek with method `duplicated()` and put id with phone number to make sure this same person"
      ]
    },
    {
      "cell_type": "code",
      "execution_count": 18,
      "id": "aZeScjENI_tX",
      "metadata": {
        "id": "aZeScjENI_tX"
      },
      "outputs": [],
      "source": [
        "duplicate_loan_id = df.duplicated(['loan_id','phone_number', 'loan_status'])"
      ]
    },
    {
      "cell_type": "code",
      "execution_count": 19,
      "id": "5Dw4V79xHqGV",
      "metadata": {
        "colab": {
          "base_uri": "https://localhost:8080/",
          "height": 288
        },
        "id": "5Dw4V79xHqGV",
        "outputId": "94613d8a-a654-4a72-a688-4de376f944d7"
      },
      "outputs": [
        {
          "data": {
            "text/html": [
              "<div>\n",
              "<style scoped>\n",
              "    .dataframe tbody tr th:only-of-type {\n",
              "        vertical-align: middle;\n",
              "    }\n",
              "\n",
              "    .dataframe tbody tr th {\n",
              "        vertical-align: top;\n",
              "    }\n",
              "\n",
              "    .dataframe thead th {\n",
              "        text-align: right;\n",
              "    }\n",
              "</style>\n",
              "<table border=\"1\" class=\"dataframe\">\n",
              "  <thead>\n",
              "    <tr style=\"text-align: right;\">\n",
              "      <th></th>\n",
              "      <th>loan_id</th>\n",
              "      <th>birth_date</th>\n",
              "      <th>phone_number</th>\n",
              "      <th>gender</th>\n",
              "      <th>married</th>\n",
              "      <th>dependents</th>\n",
              "      <th>education</th>\n",
              "      <th>self_employed</th>\n",
              "      <th>applicant_income</th>\n",
              "      <th>coapplicant_income</th>\n",
              "      <th>loan_amount</th>\n",
              "      <th>loan_term_month</th>\n",
              "      <th>loan_term_year</th>\n",
              "      <th>credit_history</th>\n",
              "      <th>has_credit_card</th>\n",
              "      <th>property_type</th>\n",
              "      <th>loan_status</th>\n",
              "    </tr>\n",
              "  </thead>\n",
              "  <tbody>\n",
              "    <tr>\n",
              "      <th>90</th>\n",
              "      <td>LP001310</td>\n",
              "      <td>1987-10-18</td>\n",
              "      <td>6.281310e+11</td>\n",
              "      <td>Male</td>\n",
              "      <td>Yes</td>\n",
              "      <td>0</td>\n",
              "      <td>Graduate</td>\n",
              "      <td>No</td>\n",
              "      <td>5695.0</td>\n",
              "      <td>4167.0</td>\n",
              "      <td>175000</td>\n",
              "      <td>360</td>\n",
              "      <td>30</td>\n",
              "      <td>1.0</td>\n",
              "      <td>no</td>\n",
              "      <td>apartment</td>\n",
              "      <td>APPROVE</td>\n",
              "    </tr>\n",
              "    <tr>\n",
              "      <th>279</th>\n",
              "      <td>LP001904</td>\n",
              "      <td>1986-01-30</td>\n",
              "      <td>6.281152e+10</td>\n",
              "      <td>Male</td>\n",
              "      <td>Yes</td>\n",
              "      <td>0</td>\n",
              "      <td>Graduate</td>\n",
              "      <td>No</td>\n",
              "      <td>3103.0</td>\n",
              "      <td>1300.0</td>\n",
              "      <td>80000</td>\n",
              "      <td>360</td>\n",
              "      <td>30</td>\n",
              "      <td>1.0</td>\n",
              "      <td>NaN</td>\n",
              "      <td>house</td>\n",
              "      <td>APPROVE</td>\n",
              "    </tr>\n",
              "    <tr>\n",
              "      <th>308</th>\n",
              "      <td>LP001990</td>\n",
              "      <td>1980-08-03</td>\n",
              "      <td>6.285279e+11</td>\n",
              "      <td>Male</td>\n",
              "      <td>No</td>\n",
              "      <td>0</td>\n",
              "      <td>Not Graduate</td>\n",
              "      <td>No</td>\n",
              "      <td>2000.0</td>\n",
              "      <td>0.0</td>\n",
              "      <td>119000</td>\n",
              "      <td>360</td>\n",
              "      <td>30</td>\n",
              "      <td>1.0</td>\n",
              "      <td>yes</td>\n",
              "      <td>house</td>\n",
              "      <td>REJECT</td>\n",
              "    </tr>\n",
              "    <tr>\n",
              "      <th>363</th>\n",
              "      <td>LP002160</td>\n",
              "      <td>1990-11-27</td>\n",
              "      <td>6.281153e+11</td>\n",
              "      <td>Male</td>\n",
              "      <td>Yes</td>\n",
              "      <td>3+</td>\n",
              "      <td>Graduate</td>\n",
              "      <td>No</td>\n",
              "      <td>5167.0</td>\n",
              "      <td>3167.0</td>\n",
              "      <td>200000</td>\n",
              "      <td>360</td>\n",
              "      <td>30</td>\n",
              "      <td>1.0</td>\n",
              "      <td>NaN</td>\n",
              "      <td>apartment</td>\n",
              "      <td>APPROVE</td>\n",
              "    </tr>\n",
              "    <tr>\n",
              "      <th>401</th>\n",
              "      <td>LP002277</td>\n",
              "      <td>1972-06-12</td>\n",
              "      <td>6.281384e+11</td>\n",
              "      <td>Female</td>\n",
              "      <td>No</td>\n",
              "      <td>0</td>\n",
              "      <td>Graduate</td>\n",
              "      <td>No</td>\n",
              "      <td>3180.0</td>\n",
              "      <td>0.0</td>\n",
              "      <td>71000</td>\n",
              "      <td>360</td>\n",
              "      <td>30</td>\n",
              "      <td>0.0</td>\n",
              "      <td>NaN</td>\n",
              "      <td>house</td>\n",
              "      <td>REJECT</td>\n",
              "    </tr>\n",
              "  </tbody>\n",
              "</table>\n",
              "</div>"
            ],
            "text/plain": [
              "      loan_id  birth_date  phone_number  gender married dependents  \\\n",
              "90   LP001310  1987-10-18  6.281310e+11    Male     Yes          0   \n",
              "279  LP001904  1986-01-30  6.281152e+10    Male     Yes          0   \n",
              "308  LP001990  1980-08-03  6.285279e+11    Male      No          0   \n",
              "363  LP002160  1990-11-27  6.281153e+11    Male     Yes         3+   \n",
              "401  LP002277  1972-06-12  6.281384e+11  Female      No          0   \n",
              "\n",
              "        education self_employed  applicant_income  coapplicant_income  \\\n",
              "90       Graduate            No            5695.0              4167.0   \n",
              "279      Graduate            No            3103.0              1300.0   \n",
              "308  Not Graduate            No            2000.0                 0.0   \n",
              "363      Graduate            No            5167.0              3167.0   \n",
              "401      Graduate            No            3180.0                 0.0   \n",
              "\n",
              "     loan_amount  loan_term_month  loan_term_year  credit_history  \\\n",
              "90        175000              360              30             1.0   \n",
              "279        80000              360              30             1.0   \n",
              "308       119000              360              30             1.0   \n",
              "363       200000              360              30             1.0   \n",
              "401        71000              360              30             0.0   \n",
              "\n",
              "    has_credit_card property_type loan_status  \n",
              "90               no     apartment     APPROVE  \n",
              "279             NaN         house     APPROVE  \n",
              "308             yes         house      REJECT  \n",
              "363             NaN     apartment     APPROVE  \n",
              "401             NaN         house      REJECT  "
            ]
          },
          "execution_count": 19,
          "metadata": {},
          "output_type": "execute_result"
        }
      ],
      "source": [
        "df[duplicate_loan_id]"
      ]
    },
    {
      "cell_type": "markdown",
      "id": "g_cZpOspCBdy",
      "metadata": {
        "id": "g_cZpOspCBdy"
      },
      "source": [
        "found duplicate data with Id:\n",
        "- LP001310\n",
        "- LP001904\n",
        "- LP001990\n",
        "-\tLP002160\n",
        "- LP002277"
      ]
    },
    {
      "cell_type": "code",
      "execution_count": 20,
      "id": "H933Y2y6GuO7",
      "metadata": {
        "colab": {
          "base_uri": "https://localhost:8080/",
          "height": 462
        },
        "id": "H933Y2y6GuO7",
        "outputId": "20a1bdd3-d226-4ae4-c28a-bbeee58614d3"
      },
      "outputs": [
        {
          "data": {
            "text/html": [
              "<div>\n",
              "<style scoped>\n",
              "    .dataframe tbody tr th:only-of-type {\n",
              "        vertical-align: middle;\n",
              "    }\n",
              "\n",
              "    .dataframe tbody tr th {\n",
              "        vertical-align: top;\n",
              "    }\n",
              "\n",
              "    .dataframe thead th {\n",
              "        text-align: right;\n",
              "    }\n",
              "</style>\n",
              "<table border=\"1\" class=\"dataframe\">\n",
              "  <thead>\n",
              "    <tr style=\"text-align: right;\">\n",
              "      <th></th>\n",
              "      <th>loan_id</th>\n",
              "      <th>birth_date</th>\n",
              "      <th>phone_number</th>\n",
              "      <th>gender</th>\n",
              "      <th>married</th>\n",
              "      <th>dependents</th>\n",
              "      <th>education</th>\n",
              "      <th>self_employed</th>\n",
              "      <th>applicant_income</th>\n",
              "      <th>coapplicant_income</th>\n",
              "      <th>loan_amount</th>\n",
              "      <th>loan_term_month</th>\n",
              "      <th>loan_term_year</th>\n",
              "      <th>credit_history</th>\n",
              "      <th>has_credit_card</th>\n",
              "      <th>property_type</th>\n",
              "      <th>loan_status</th>\n",
              "    </tr>\n",
              "  </thead>\n",
              "  <tbody>\n",
              "    <tr>\n",
              "      <th>89</th>\n",
              "      <td>LP001310</td>\n",
              "      <td>1987-10-18</td>\n",
              "      <td>6.281310e+11</td>\n",
              "      <td>Male</td>\n",
              "      <td>Yes</td>\n",
              "      <td>0</td>\n",
              "      <td>Graduate</td>\n",
              "      <td>No</td>\n",
              "      <td>5695.0</td>\n",
              "      <td>4167.0</td>\n",
              "      <td>175000</td>\n",
              "      <td>360</td>\n",
              "      <td>30</td>\n",
              "      <td>1.0</td>\n",
              "      <td>NaN</td>\n",
              "      <td>apartment</td>\n",
              "      <td>APPROVE</td>\n",
              "    </tr>\n",
              "    <tr>\n",
              "      <th>90</th>\n",
              "      <td>LP001310</td>\n",
              "      <td>1987-10-18</td>\n",
              "      <td>6.281310e+11</td>\n",
              "      <td>Male</td>\n",
              "      <td>Yes</td>\n",
              "      <td>0</td>\n",
              "      <td>Graduate</td>\n",
              "      <td>No</td>\n",
              "      <td>5695.0</td>\n",
              "      <td>4167.0</td>\n",
              "      <td>175000</td>\n",
              "      <td>360</td>\n",
              "      <td>30</td>\n",
              "      <td>1.0</td>\n",
              "      <td>no</td>\n",
              "      <td>apartment</td>\n",
              "      <td>APPROVE</td>\n",
              "    </tr>\n",
              "    <tr>\n",
              "      <th>278</th>\n",
              "      <td>LP001904</td>\n",
              "      <td>1986-01-30</td>\n",
              "      <td>6.281152e+10</td>\n",
              "      <td>Male</td>\n",
              "      <td>Yes</td>\n",
              "      <td>0</td>\n",
              "      <td>Graduate</td>\n",
              "      <td>No</td>\n",
              "      <td>3103.0</td>\n",
              "      <td>1300.0</td>\n",
              "      <td>80000</td>\n",
              "      <td>360</td>\n",
              "      <td>30</td>\n",
              "      <td>1.0</td>\n",
              "      <td>NaN</td>\n",
              "      <td>house</td>\n",
              "      <td>APPROVE</td>\n",
              "    </tr>\n",
              "    <tr>\n",
              "      <th>279</th>\n",
              "      <td>LP001904</td>\n",
              "      <td>1986-01-30</td>\n",
              "      <td>6.281152e+10</td>\n",
              "      <td>Male</td>\n",
              "      <td>Yes</td>\n",
              "      <td>0</td>\n",
              "      <td>Graduate</td>\n",
              "      <td>No</td>\n",
              "      <td>3103.0</td>\n",
              "      <td>1300.0</td>\n",
              "      <td>80000</td>\n",
              "      <td>360</td>\n",
              "      <td>30</td>\n",
              "      <td>1.0</td>\n",
              "      <td>NaN</td>\n",
              "      <td>house</td>\n",
              "      <td>APPROVE</td>\n",
              "    </tr>\n",
              "    <tr>\n",
              "      <th>307</th>\n",
              "      <td>LP001990</td>\n",
              "      <td>1980-08-03</td>\n",
              "      <td>6.285279e+11</td>\n",
              "      <td>Male</td>\n",
              "      <td>No</td>\n",
              "      <td>0</td>\n",
              "      <td>Not Graduate</td>\n",
              "      <td>No</td>\n",
              "      <td>2000.0</td>\n",
              "      <td>0.0</td>\n",
              "      <td>119000</td>\n",
              "      <td>360</td>\n",
              "      <td>30</td>\n",
              "      <td>1.0</td>\n",
              "      <td>NaN</td>\n",
              "      <td>house</td>\n",
              "      <td>REJECT</td>\n",
              "    </tr>\n",
              "    <tr>\n",
              "      <th>308</th>\n",
              "      <td>LP001990</td>\n",
              "      <td>1980-08-03</td>\n",
              "      <td>6.285279e+11</td>\n",
              "      <td>Male</td>\n",
              "      <td>No</td>\n",
              "      <td>0</td>\n",
              "      <td>Not Graduate</td>\n",
              "      <td>No</td>\n",
              "      <td>2000.0</td>\n",
              "      <td>0.0</td>\n",
              "      <td>119000</td>\n",
              "      <td>360</td>\n",
              "      <td>30</td>\n",
              "      <td>1.0</td>\n",
              "      <td>yes</td>\n",
              "      <td>house</td>\n",
              "      <td>REJECT</td>\n",
              "    </tr>\n",
              "    <tr>\n",
              "      <th>362</th>\n",
              "      <td>LP002160</td>\n",
              "      <td>1990-11-27</td>\n",
              "      <td>6.281153e+11</td>\n",
              "      <td>Male</td>\n",
              "      <td>Yes</td>\n",
              "      <td>3+</td>\n",
              "      <td>Graduate</td>\n",
              "      <td>No</td>\n",
              "      <td>5167.0</td>\n",
              "      <td>3167.0</td>\n",
              "      <td>200000</td>\n",
              "      <td>360</td>\n",
              "      <td>30</td>\n",
              "      <td>1.0</td>\n",
              "      <td>yes</td>\n",
              "      <td>apartment</td>\n",
              "      <td>APPROVE</td>\n",
              "    </tr>\n",
              "    <tr>\n",
              "      <th>363</th>\n",
              "      <td>LP002160</td>\n",
              "      <td>1990-11-27</td>\n",
              "      <td>6.281153e+11</td>\n",
              "      <td>Male</td>\n",
              "      <td>Yes</td>\n",
              "      <td>3+</td>\n",
              "      <td>Graduate</td>\n",
              "      <td>No</td>\n",
              "      <td>5167.0</td>\n",
              "      <td>3167.0</td>\n",
              "      <td>200000</td>\n",
              "      <td>360</td>\n",
              "      <td>30</td>\n",
              "      <td>1.0</td>\n",
              "      <td>NaN</td>\n",
              "      <td>apartment</td>\n",
              "      <td>APPROVE</td>\n",
              "    </tr>\n",
              "    <tr>\n",
              "      <th>400</th>\n",
              "      <td>LP002277</td>\n",
              "      <td>1972-06-12</td>\n",
              "      <td>6.281384e+11</td>\n",
              "      <td>Female</td>\n",
              "      <td>No</td>\n",
              "      <td>0</td>\n",
              "      <td>Graduate</td>\n",
              "      <td>No</td>\n",
              "      <td>3180.0</td>\n",
              "      <td>0.0</td>\n",
              "      <td>71000</td>\n",
              "      <td>360</td>\n",
              "      <td>30</td>\n",
              "      <td>0.0</td>\n",
              "      <td>yes</td>\n",
              "      <td>house</td>\n",
              "      <td>REJECT</td>\n",
              "    </tr>\n",
              "    <tr>\n",
              "      <th>401</th>\n",
              "      <td>LP002277</td>\n",
              "      <td>1972-06-12</td>\n",
              "      <td>6.281384e+11</td>\n",
              "      <td>Female</td>\n",
              "      <td>No</td>\n",
              "      <td>0</td>\n",
              "      <td>Graduate</td>\n",
              "      <td>No</td>\n",
              "      <td>3180.0</td>\n",
              "      <td>0.0</td>\n",
              "      <td>71000</td>\n",
              "      <td>360</td>\n",
              "      <td>30</td>\n",
              "      <td>0.0</td>\n",
              "      <td>NaN</td>\n",
              "      <td>house</td>\n",
              "      <td>REJECT</td>\n",
              "    </tr>\n",
              "  </tbody>\n",
              "</table>\n",
              "</div>"
            ],
            "text/plain": [
              "      loan_id  birth_date  phone_number  gender married dependents  \\\n",
              "89   LP001310  1987-10-18  6.281310e+11    Male     Yes          0   \n",
              "90   LP001310  1987-10-18  6.281310e+11    Male     Yes          0   \n",
              "278  LP001904  1986-01-30  6.281152e+10    Male     Yes          0   \n",
              "279  LP001904  1986-01-30  6.281152e+10    Male     Yes          0   \n",
              "307  LP001990  1980-08-03  6.285279e+11    Male      No          0   \n",
              "308  LP001990  1980-08-03  6.285279e+11    Male      No          0   \n",
              "362  LP002160  1990-11-27  6.281153e+11    Male     Yes         3+   \n",
              "363  LP002160  1990-11-27  6.281153e+11    Male     Yes         3+   \n",
              "400  LP002277  1972-06-12  6.281384e+11  Female      No          0   \n",
              "401  LP002277  1972-06-12  6.281384e+11  Female      No          0   \n",
              "\n",
              "        education self_employed  applicant_income  coapplicant_income  \\\n",
              "89       Graduate            No            5695.0              4167.0   \n",
              "90       Graduate            No            5695.0              4167.0   \n",
              "278      Graduate            No            3103.0              1300.0   \n",
              "279      Graduate            No            3103.0              1300.0   \n",
              "307  Not Graduate            No            2000.0                 0.0   \n",
              "308  Not Graduate            No            2000.0                 0.0   \n",
              "362      Graduate            No            5167.0              3167.0   \n",
              "363      Graduate            No            5167.0              3167.0   \n",
              "400      Graduate            No            3180.0                 0.0   \n",
              "401      Graduate            No            3180.0                 0.0   \n",
              "\n",
              "     loan_amount  loan_term_month  loan_term_year  credit_history  \\\n",
              "89        175000              360              30             1.0   \n",
              "90        175000              360              30             1.0   \n",
              "278        80000              360              30             1.0   \n",
              "279        80000              360              30             1.0   \n",
              "307       119000              360              30             1.0   \n",
              "308       119000              360              30             1.0   \n",
              "362       200000              360              30             1.0   \n",
              "363       200000              360              30             1.0   \n",
              "400        71000              360              30             0.0   \n",
              "401        71000              360              30             0.0   \n",
              "\n",
              "    has_credit_card property_type loan_status  \n",
              "89              NaN     apartment     APPROVE  \n",
              "90               no     apartment     APPROVE  \n",
              "278             NaN         house     APPROVE  \n",
              "279             NaN         house     APPROVE  \n",
              "307             NaN         house      REJECT  \n",
              "308             yes         house      REJECT  \n",
              "362             yes     apartment     APPROVE  \n",
              "363             NaN     apartment     APPROVE  \n",
              "400             yes         house      REJECT  \n",
              "401             NaN         house      REJECT  "
            ]
          },
          "execution_count": 20,
          "metadata": {},
          "output_type": "execute_result"
        }
      ],
      "source": [
        "duplicate_id = ['LP001310','LP001904','LP001990','LP002160','LP002277']\n",
        "\n",
        "df[df['loan_id'].isin(duplicate_id)]"
      ]
    },
    {
      "cell_type": "markdown",
      "id": "CpTsl547MHV4",
      "metadata": {
        "id": "CpTsl547MHV4"
      },
      "source": [
        "Obeservation from DataFrame:\n",
        "- Almost all duplicate data had same values on their feature\n",
        "- execpt id **LP002277, LP002160, LP001990, LP001310** the different on feature `has_credit_card` "
      ]
    },
    {
      "cell_type": "markdown",
      "id": "Xqu6KR0gHhvz",
      "metadata": {
        "id": "Xqu6KR0gHhvz"
      },
      "source": [
        "## Check Unique Value"
      ]
    },
    {
      "cell_type": "code",
      "execution_count": 21,
      "id": "21yiLxSPHoVd",
      "metadata": {
        "colab": {
          "base_uri": "https://localhost:8080/"
        },
        "id": "21yiLxSPHoVd",
        "outputId": "d7644aa9-233a-4dee-ead8-82767e4c3877"
      },
      "outputs": [
        {
          "data": {
            "text/plain": [
              "loan_id               616\n",
              "birth_date            541\n",
              "phone_number          564\n",
              "gender                  2\n",
              "married                 2\n",
              "dependents              4\n",
              "education               2\n",
              "self_employed           2\n",
              "applicant_income      500\n",
              "coapplicant_income    287\n",
              "loan_amount           203\n",
              "loan_term_month        10\n",
              "loan_term_year         10\n",
              "credit_history          2\n",
              "has_credit_card         2\n",
              "property_type           3\n",
              "loan_status             2\n",
              "dtype: int64"
            ]
          },
          "execution_count": 21,
          "metadata": {},
          "output_type": "execute_result"
        }
      ],
      "source": [
        "df.nunique()"
      ]
    },
    {
      "cell_type": "code",
      "execution_count": 22,
      "id": "KuxZIYAtT-sJ",
      "metadata": {
        "colab": {
          "base_uri": "https://localhost:8080/",
          "height": 582
        },
        "id": "KuxZIYAtT-sJ",
        "outputId": "0cd252aa-6a02-493c-f135-10e54210d734"
      },
      "outputs": [
        {
          "data": {
            "text/html": [
              "<div>\n",
              "<style scoped>\n",
              "    .dataframe tbody tr th:only-of-type {\n",
              "        vertical-align: middle;\n",
              "    }\n",
              "\n",
              "    .dataframe tbody tr th {\n",
              "        vertical-align: top;\n",
              "    }\n",
              "\n",
              "    .dataframe thead th {\n",
              "        text-align: right;\n",
              "    }\n",
              "</style>\n",
              "<table border=\"1\" class=\"dataframe\">\n",
              "  <thead>\n",
              "    <tr style=\"text-align: right;\">\n",
              "      <th></th>\n",
              "      <th>Feature</th>\n",
              "      <th>Data Type</th>\n",
              "      <th>Null Data</th>\n",
              "      <th>Number Unique</th>\n",
              "      <th>Samples</th>\n",
              "    </tr>\n",
              "  </thead>\n",
              "  <tbody>\n",
              "    <tr>\n",
              "      <th>0</th>\n",
              "      <td>loan_id</td>\n",
              "      <td>object</td>\n",
              "      <td>0</td>\n",
              "      <td>616</td>\n",
              "      <td>[LP001002, LP001003, LP001005, LP001006, LP001...</td>\n",
              "    </tr>\n",
              "    <tr>\n",
              "      <th>1</th>\n",
              "      <td>birth_date</td>\n",
              "      <td>object</td>\n",
              "      <td>49</td>\n",
              "      <td>541</td>\n",
              "      <td>[1977-05-15, 1979-08-24, 1991-03-28, 1980-06-0...</td>\n",
              "    </tr>\n",
              "    <tr>\n",
              "      <th>2</th>\n",
              "      <td>phone_number</td>\n",
              "      <td>float64</td>\n",
              "      <td>52</td>\n",
              "      <td>564</td>\n",
              "      <td>[628114203187.0, 628776449212.0, 628119240537....</td>\n",
              "    </tr>\n",
              "    <tr>\n",
              "      <th>3</th>\n",
              "      <td>gender</td>\n",
              "      <td>object</td>\n",
              "      <td>13</td>\n",
              "      <td>2</td>\n",
              "      <td>[Male, Female, nan]</td>\n",
              "    </tr>\n",
              "    <tr>\n",
              "      <th>4</th>\n",
              "      <td>married</td>\n",
              "      <td>object</td>\n",
              "      <td>3</td>\n",
              "      <td>2</td>\n",
              "      <td>[No, Yes, nan]</td>\n",
              "    </tr>\n",
              "    <tr>\n",
              "      <th>5</th>\n",
              "      <td>dependents</td>\n",
              "      <td>object</td>\n",
              "      <td>16</td>\n",
              "      <td>4</td>\n",
              "      <td>[0, 1, 2, 3+, nan]</td>\n",
              "    </tr>\n",
              "    <tr>\n",
              "      <th>6</th>\n",
              "      <td>education</td>\n",
              "      <td>object</td>\n",
              "      <td>1</td>\n",
              "      <td>2</td>\n",
              "      <td>[Graduate, Not Graduate, nan]</td>\n",
              "    </tr>\n",
              "    <tr>\n",
              "      <th>7</th>\n",
              "      <td>self_employed</td>\n",
              "      <td>object</td>\n",
              "      <td>33</td>\n",
              "      <td>2</td>\n",
              "      <td>[No, Yes, nan]</td>\n",
              "    </tr>\n",
              "    <tr>\n",
              "      <th>8</th>\n",
              "      <td>applicant_income</td>\n",
              "      <td>float64</td>\n",
              "      <td>9</td>\n",
              "      <td>500</td>\n",
              "      <td>[5849.0, 4583.0, 3000.0, 2583.0, 6000.0, 5417....</td>\n",
              "    </tr>\n",
              "    <tr>\n",
              "      <th>9</th>\n",
              "      <td>coapplicant_income</td>\n",
              "      <td>float64</td>\n",
              "      <td>0</td>\n",
              "      <td>287</td>\n",
              "      <td>[0.0, 1508.0, 2358.0, 4196.0, 1516.0, 2504.0, ...</td>\n",
              "    </tr>\n",
              "    <tr>\n",
              "      <th>10</th>\n",
              "      <td>loan_amount</td>\n",
              "      <td>int64</td>\n",
              "      <td>0</td>\n",
              "      <td>203</td>\n",
              "      <td>[100000, 128000, 66000, 120000, 141000, 267000...</td>\n",
              "    </tr>\n",
              "    <tr>\n",
              "      <th>11</th>\n",
              "      <td>loan_term_month</td>\n",
              "      <td>int64</td>\n",
              "      <td>0</td>\n",
              "      <td>10</td>\n",
              "      <td>[360, 120, 240, 180, 60, 300, 480, 36, 84, 12]</td>\n",
              "    </tr>\n",
              "    <tr>\n",
              "      <th>12</th>\n",
              "      <td>loan_term_year</td>\n",
              "      <td>int64</td>\n",
              "      <td>0</td>\n",
              "      <td>10</td>\n",
              "      <td>[30, 10, 20, 15, 5, 25, 40, 3, 7, 1]</td>\n",
              "    </tr>\n",
              "    <tr>\n",
              "      <th>13</th>\n",
              "      <td>credit_history</td>\n",
              "      <td>float64</td>\n",
              "      <td>51</td>\n",
              "      <td>2</td>\n",
              "      <td>[1.0, 0.0, nan]</td>\n",
              "    </tr>\n",
              "    <tr>\n",
              "      <th>14</th>\n",
              "      <td>has_credit_card</td>\n",
              "      <td>object</td>\n",
              "      <td>533</td>\n",
              "      <td>2</td>\n",
              "      <td>[nan, no, yes]</td>\n",
              "    </tr>\n",
              "    <tr>\n",
              "      <th>15</th>\n",
              "      <td>property_type</td>\n",
              "      <td>object</td>\n",
              "      <td>1</td>\n",
              "      <td>3</td>\n",
              "      <td>[house, studio, apartment, nan]</td>\n",
              "    </tr>\n",
              "    <tr>\n",
              "      <th>16</th>\n",
              "      <td>loan_status</td>\n",
              "      <td>object</td>\n",
              "      <td>0</td>\n",
              "      <td>2</td>\n",
              "      <td>[APPROVE, REJECT]</td>\n",
              "    </tr>\n",
              "  </tbody>\n",
              "</table>\n",
              "</div>"
            ],
            "text/plain": [
              "               Feature Data Type  Null Data  Number Unique  \\\n",
              "0              loan_id    object          0            616   \n",
              "1           birth_date    object         49            541   \n",
              "2         phone_number   float64         52            564   \n",
              "3               gender    object         13              2   \n",
              "4              married    object          3              2   \n",
              "5           dependents    object         16              4   \n",
              "6            education    object          1              2   \n",
              "7        self_employed    object         33              2   \n",
              "8     applicant_income   float64          9            500   \n",
              "9   coapplicant_income   float64          0            287   \n",
              "10         loan_amount     int64          0            203   \n",
              "11     loan_term_month     int64          0             10   \n",
              "12      loan_term_year     int64          0             10   \n",
              "13      credit_history   float64         51              2   \n",
              "14     has_credit_card    object        533              2   \n",
              "15       property_type    object          1              3   \n",
              "16         loan_status    object          0              2   \n",
              "\n",
              "                                              Samples  \n",
              "0   [LP001002, LP001003, LP001005, LP001006, LP001...  \n",
              "1   [1977-05-15, 1979-08-24, 1991-03-28, 1980-06-0...  \n",
              "2   [628114203187.0, 628776449212.0, 628119240537....  \n",
              "3                                 [Male, Female, nan]  \n",
              "4                                      [No, Yes, nan]  \n",
              "5                                  [0, 1, 2, 3+, nan]  \n",
              "6                       [Graduate, Not Graduate, nan]  \n",
              "7                                      [No, Yes, nan]  \n",
              "8   [5849.0, 4583.0, 3000.0, 2583.0, 6000.0, 5417....  \n",
              "9   [0.0, 1508.0, 2358.0, 4196.0, 1516.0, 2504.0, ...  \n",
              "10  [100000, 128000, 66000, 120000, 141000, 267000...  \n",
              "11     [360, 120, 240, 180, 60, 300, 480, 36, 84, 12]  \n",
              "12               [30, 10, 20, 15, 5, 25, 40, 3, 7, 1]  \n",
              "13                                    [1.0, 0.0, nan]  \n",
              "14                                     [nan, no, yes]  \n",
              "15                    [house, studio, apartment, nan]  \n",
              "16                                  [APPROVE, REJECT]  "
            ]
          },
          "execution_count": 22,
          "metadata": {},
          "output_type": "execute_result"
        }
      ],
      "source": [
        "check_overal_status(df)"
      ]
    },
    {
      "cell_type": "markdown",
      "id": "7vL2HmcifSOM",
      "metadata": {
        "id": "7vL2HmcifSOM"
      },
      "source": [
        "Obeservation from Dataframe:\n",
        "- Many feature has `nan` value this will be my concern\n",
        "- Identity feature like birth_date, phone_number I prefer to drop `nan`\n",
        "- feature `gender` has `nan`, I prefer to delete this because human only have 2 gender (male, female)\n",
        "- `phone_number` maybe for convenient i will change data type to int "
      ]
    },
    {
      "cell_type": "markdown",
      "id": "7c0e3893",
      "metadata": {
        "id": "7c0e3893"
      },
      "source": [
        "# Data Cleansing"
      ]
    },
    {
      "cell_type": "markdown",
      "id": "dc4032a4",
      "metadata": {
        "id": "dc4032a4"
      },
      "source": [
        "## Handling missing values"
      ]
    },
    {
      "cell_type": "markdown",
      "id": "WZwRWrpAxVmE",
      "metadata": {
        "id": "WZwRWrpAxVmE"
      },
      "source": [
        "first I try to drop 3 Important value from Id such as `birth_date`, `phone_number` and `gender`"
      ]
    },
    {
      "cell_type": "code",
      "execution_count": 23,
      "id": "jQXdQIkIUVwD",
      "metadata": {
        "id": "jQXdQIkIUVwD"
      },
      "outputs": [],
      "source": [
        "df_drop_3 = df.dropna(axis=0, how='any', subset=['birth_date', 'phone_number', 'gender'])"
      ]
    },
    {
      "cell_type": "code",
      "execution_count": 24,
      "id": "dCYRT6_XW0wD",
      "metadata": {
        "colab": {
          "base_uri": "https://localhost:8080/",
          "height": 582
        },
        "id": "dCYRT6_XW0wD",
        "outputId": "e3c03672-b17d-4afd-a66f-806ebd9adb4c"
      },
      "outputs": [
        {
          "data": {
            "text/html": [
              "<div>\n",
              "<style scoped>\n",
              "    .dataframe tbody tr th:only-of-type {\n",
              "        vertical-align: middle;\n",
              "    }\n",
              "\n",
              "    .dataframe tbody tr th {\n",
              "        vertical-align: top;\n",
              "    }\n",
              "\n",
              "    .dataframe thead th {\n",
              "        text-align: right;\n",
              "    }\n",
              "</style>\n",
              "<table border=\"1\" class=\"dataframe\">\n",
              "  <thead>\n",
              "    <tr style=\"text-align: right;\">\n",
              "      <th></th>\n",
              "      <th>Feature</th>\n",
              "      <th>Data Type</th>\n",
              "      <th>Null Data</th>\n",
              "      <th>Number Unique</th>\n",
              "      <th>Samples</th>\n",
              "    </tr>\n",
              "  </thead>\n",
              "  <tbody>\n",
              "    <tr>\n",
              "      <th>0</th>\n",
              "      <td>loan_id</td>\n",
              "      <td>object</td>\n",
              "      <td>0</td>\n",
              "      <td>511</td>\n",
              "      <td>[LP001002, LP001003, LP001005, LP001006, LP001...</td>\n",
              "    </tr>\n",
              "    <tr>\n",
              "      <th>1</th>\n",
              "      <td>birth_date</td>\n",
              "      <td>object</td>\n",
              "      <td>0</td>\n",
              "      <td>487</td>\n",
              "      <td>[1977-05-15, 1979-08-24, 1991-03-28, 1980-06-0...</td>\n",
              "    </tr>\n",
              "    <tr>\n",
              "      <th>2</th>\n",
              "      <td>phone_number</td>\n",
              "      <td>float64</td>\n",
              "      <td>0</td>\n",
              "      <td>511</td>\n",
              "      <td>[628114203187.0, 628776449212.0, 628119240537....</td>\n",
              "    </tr>\n",
              "    <tr>\n",
              "      <th>3</th>\n",
              "      <td>gender</td>\n",
              "      <td>object</td>\n",
              "      <td>0</td>\n",
              "      <td>2</td>\n",
              "      <td>[Male, Female]</td>\n",
              "    </tr>\n",
              "    <tr>\n",
              "      <th>4</th>\n",
              "      <td>married</td>\n",
              "      <td>object</td>\n",
              "      <td>2</td>\n",
              "      <td>2</td>\n",
              "      <td>[No, Yes, nan]</td>\n",
              "    </tr>\n",
              "    <tr>\n",
              "      <th>5</th>\n",
              "      <td>dependents</td>\n",
              "      <td>object</td>\n",
              "      <td>13</td>\n",
              "      <td>4</td>\n",
              "      <td>[0, 1, 2, 3+, nan]</td>\n",
              "    </tr>\n",
              "    <tr>\n",
              "      <th>6</th>\n",
              "      <td>education</td>\n",
              "      <td>object</td>\n",
              "      <td>1</td>\n",
              "      <td>2</td>\n",
              "      <td>[Graduate, Not Graduate, nan]</td>\n",
              "    </tr>\n",
              "    <tr>\n",
              "      <th>7</th>\n",
              "      <td>self_employed</td>\n",
              "      <td>object</td>\n",
              "      <td>27</td>\n",
              "      <td>2</td>\n",
              "      <td>[No, Yes, nan]</td>\n",
              "    </tr>\n",
              "    <tr>\n",
              "      <th>8</th>\n",
              "      <td>applicant_income</td>\n",
              "      <td>float64</td>\n",
              "      <td>8</td>\n",
              "      <td>420</td>\n",
              "      <td>[5849.0, 4583.0, 3000.0, 2583.0, 6000.0, 5417....</td>\n",
              "    </tr>\n",
              "    <tr>\n",
              "      <th>9</th>\n",
              "      <td>coapplicant_income</td>\n",
              "      <td>float64</td>\n",
              "      <td>0</td>\n",
              "      <td>246</td>\n",
              "      <td>[0.0, 1508.0, 2358.0, 4196.0, 1516.0, 2504.0, ...</td>\n",
              "    </tr>\n",
              "    <tr>\n",
              "      <th>10</th>\n",
              "      <td>loan_amount</td>\n",
              "      <td>int64</td>\n",
              "      <td>0</td>\n",
              "      <td>185</td>\n",
              "      <td>[100000, 128000, 66000, 120000, 141000, 267000...</td>\n",
              "    </tr>\n",
              "    <tr>\n",
              "      <th>11</th>\n",
              "      <td>loan_term_month</td>\n",
              "      <td>int64</td>\n",
              "      <td>0</td>\n",
              "      <td>10</td>\n",
              "      <td>[360, 120, 180, 60, 300, 480, 240, 36, 84, 12]</td>\n",
              "    </tr>\n",
              "    <tr>\n",
              "      <th>12</th>\n",
              "      <td>loan_term_year</td>\n",
              "      <td>int64</td>\n",
              "      <td>0</td>\n",
              "      <td>10</td>\n",
              "      <td>[30, 10, 15, 5, 25, 40, 20, 3, 7, 1]</td>\n",
              "    </tr>\n",
              "    <tr>\n",
              "      <th>13</th>\n",
              "      <td>credit_history</td>\n",
              "      <td>float64</td>\n",
              "      <td>41</td>\n",
              "      <td>2</td>\n",
              "      <td>[1.0, 0.0, nan]</td>\n",
              "    </tr>\n",
              "    <tr>\n",
              "      <th>14</th>\n",
              "      <td>has_credit_card</td>\n",
              "      <td>object</td>\n",
              "      <td>446</td>\n",
              "      <td>2</td>\n",
              "      <td>[nan, no, yes]</td>\n",
              "    </tr>\n",
              "    <tr>\n",
              "      <th>15</th>\n",
              "      <td>property_type</td>\n",
              "      <td>object</td>\n",
              "      <td>1</td>\n",
              "      <td>3</td>\n",
              "      <td>[house, studio, apartment, nan]</td>\n",
              "    </tr>\n",
              "    <tr>\n",
              "      <th>16</th>\n",
              "      <td>loan_status</td>\n",
              "      <td>object</td>\n",
              "      <td>0</td>\n",
              "      <td>2</td>\n",
              "      <td>[APPROVE, REJECT]</td>\n",
              "    </tr>\n",
              "  </tbody>\n",
              "</table>\n",
              "</div>"
            ],
            "text/plain": [
              "               Feature Data Type  Null Data  Number Unique  \\\n",
              "0              loan_id    object          0            511   \n",
              "1           birth_date    object          0            487   \n",
              "2         phone_number   float64          0            511   \n",
              "3               gender    object          0              2   \n",
              "4              married    object          2              2   \n",
              "5           dependents    object         13              4   \n",
              "6            education    object          1              2   \n",
              "7        self_employed    object         27              2   \n",
              "8     applicant_income   float64          8            420   \n",
              "9   coapplicant_income   float64          0            246   \n",
              "10         loan_amount     int64          0            185   \n",
              "11     loan_term_month     int64          0             10   \n",
              "12      loan_term_year     int64          0             10   \n",
              "13      credit_history   float64         41              2   \n",
              "14     has_credit_card    object        446              2   \n",
              "15       property_type    object          1              3   \n",
              "16         loan_status    object          0              2   \n",
              "\n",
              "                                              Samples  \n",
              "0   [LP001002, LP001003, LP001005, LP001006, LP001...  \n",
              "1   [1977-05-15, 1979-08-24, 1991-03-28, 1980-06-0...  \n",
              "2   [628114203187.0, 628776449212.0, 628119240537....  \n",
              "3                                      [Male, Female]  \n",
              "4                                      [No, Yes, nan]  \n",
              "5                                  [0, 1, 2, 3+, nan]  \n",
              "6                       [Graduate, Not Graduate, nan]  \n",
              "7                                      [No, Yes, nan]  \n",
              "8   [5849.0, 4583.0, 3000.0, 2583.0, 6000.0, 5417....  \n",
              "9   [0.0, 1508.0, 2358.0, 4196.0, 1516.0, 2504.0, ...  \n",
              "10  [100000, 128000, 66000, 120000, 141000, 267000...  \n",
              "11     [360, 120, 180, 60, 300, 480, 240, 36, 84, 12]  \n",
              "12               [30, 10, 15, 5, 25, 40, 20, 3, 7, 1]  \n",
              "13                                    [1.0, 0.0, nan]  \n",
              "14                                     [nan, no, yes]  \n",
              "15                    [house, studio, apartment, nan]  \n",
              "16                                  [APPROVE, REJECT]  "
            ]
          },
          "execution_count": 24,
          "metadata": {},
          "output_type": "execute_result"
        }
      ],
      "source": [
        "check_overal_status(df_drop_3)"
      ]
    },
    {
      "cell_type": "code",
      "execution_count": 25,
      "id": "uepII4Q-dzA1",
      "metadata": {
        "colab": {
          "base_uri": "https://localhost:8080/",
          "height": 176
        },
        "id": "uepII4Q-dzA1",
        "outputId": "1d383e89-b0ce-47f8-b367-2dbc3c211c65"
      },
      "outputs": [
        {
          "data": {
            "text/html": [
              "<div>\n",
              "<style scoped>\n",
              "    .dataframe tbody tr th:only-of-type {\n",
              "        vertical-align: middle;\n",
              "    }\n",
              "\n",
              "    .dataframe tbody tr th {\n",
              "        vertical-align: top;\n",
              "    }\n",
              "\n",
              "    .dataframe thead th {\n",
              "        text-align: right;\n",
              "    }\n",
              "</style>\n",
              "<table border=\"1\" class=\"dataframe\">\n",
              "  <thead>\n",
              "    <tr style=\"text-align: right;\">\n",
              "      <th></th>\n",
              "      <th>loan_id</th>\n",
              "      <th>birth_date</th>\n",
              "      <th>phone_number</th>\n",
              "      <th>gender</th>\n",
              "      <th>married</th>\n",
              "      <th>dependents</th>\n",
              "      <th>education</th>\n",
              "      <th>self_employed</th>\n",
              "      <th>applicant_income</th>\n",
              "      <th>coapplicant_income</th>\n",
              "      <th>loan_amount</th>\n",
              "      <th>loan_term_month</th>\n",
              "      <th>loan_term_year</th>\n",
              "      <th>credit_history</th>\n",
              "      <th>has_credit_card</th>\n",
              "      <th>property_type</th>\n",
              "      <th>loan_status</th>\n",
              "    </tr>\n",
              "  </thead>\n",
              "  <tbody>\n",
              "    <tr>\n",
              "      <th>105</th>\n",
              "      <td>LP001357</td>\n",
              "      <td>1989-05-26</td>\n",
              "      <td>6.281328e+11</td>\n",
              "      <td>Male</td>\n",
              "      <td>NaN</td>\n",
              "      <td>NaN</td>\n",
              "      <td>Graduate</td>\n",
              "      <td>No</td>\n",
              "      <td>NaN</td>\n",
              "      <td>754.0</td>\n",
              "      <td>160000</td>\n",
              "      <td>360</td>\n",
              "      <td>30</td>\n",
              "      <td>1.0</td>\n",
              "      <td>NaN</td>\n",
              "      <td>house</td>\n",
              "      <td>APPROVE</td>\n",
              "    </tr>\n",
              "    <tr>\n",
              "      <th>229</th>\n",
              "      <td>LP001760</td>\n",
              "      <td>1986-04-09</td>\n",
              "      <td>6.285720e+11</td>\n",
              "      <td>Male</td>\n",
              "      <td>NaN</td>\n",
              "      <td>NaN</td>\n",
              "      <td>Graduate</td>\n",
              "      <td>No</td>\n",
              "      <td>4758.0</td>\n",
              "      <td>0.0</td>\n",
              "      <td>158000</td>\n",
              "      <td>480</td>\n",
              "      <td>40</td>\n",
              "      <td>1.0</td>\n",
              "      <td>no</td>\n",
              "      <td>apartment</td>\n",
              "      <td>APPROVE</td>\n",
              "    </tr>\n",
              "  </tbody>\n",
              "</table>\n",
              "</div>"
            ],
            "text/plain": [
              "      loan_id  birth_date  phone_number gender married dependents education  \\\n",
              "105  LP001357  1989-05-26  6.281328e+11   Male     NaN        NaN  Graduate   \n",
              "229  LP001760  1986-04-09  6.285720e+11   Male     NaN        NaN  Graduate   \n",
              "\n",
              "    self_employed  applicant_income  coapplicant_income  loan_amount  \\\n",
              "105            No               NaN               754.0       160000   \n",
              "229            No            4758.0                 0.0       158000   \n",
              "\n",
              "     loan_term_month  loan_term_year  credit_history has_credit_card  \\\n",
              "105              360              30             1.0             NaN   \n",
              "229              480              40             1.0              no   \n",
              "\n",
              "    property_type loan_status  \n",
              "105         house     APPROVE  \n",
              "229     apartment     APPROVE  "
            ]
          },
          "execution_count": 25,
          "metadata": {},
          "output_type": "execute_result"
        }
      ],
      "source": [
        "df_drop_3.loc[df['married'].isna(), :]"
      ]
    },
    {
      "cell_type": "markdown",
      "id": "g-EMDWHqfB9h",
      "metadata": {
        "id": "g-EMDWHqfB9h"
      },
      "source": [
        "there are only 2 Id founded has *Missing Value* on `married` feature I will drop this, andother feature like `dependents`, `self_employed`, `applicant_income` and `credit_history`."
      ]
    },
    {
      "cell_type": "code",
      "execution_count": 26,
      "id": "p8Zl6Zpge_Ug",
      "metadata": {
        "id": "p8Zl6Zpge_Ug"
      },
      "outputs": [],
      "source": [
        "subsets = ['married', 'dependents', 'self_employed', \n",
        "           'applicant_income', 'credit_history']\n",
        "df_drop = df_drop_3.dropna(axis=0, how='any', subset=subsets)"
      ]
    },
    {
      "cell_type": "code",
      "execution_count": 27,
      "id": "grszgy4ofoTn",
      "metadata": {
        "colab": {
          "base_uri": "https://localhost:8080/",
          "height": 582
        },
        "id": "grszgy4ofoTn",
        "outputId": "1ad1f132-9ba7-47be-cbe6-86554cd85ba0"
      },
      "outputs": [
        {
          "data": {
            "text/html": [
              "<div>\n",
              "<style scoped>\n",
              "    .dataframe tbody tr th:only-of-type {\n",
              "        vertical-align: middle;\n",
              "    }\n",
              "\n",
              "    .dataframe tbody tr th {\n",
              "        vertical-align: top;\n",
              "    }\n",
              "\n",
              "    .dataframe thead th {\n",
              "        text-align: right;\n",
              "    }\n",
              "</style>\n",
              "<table border=\"1\" class=\"dataframe\">\n",
              "  <thead>\n",
              "    <tr style=\"text-align: right;\">\n",
              "      <th></th>\n",
              "      <th>Feature</th>\n",
              "      <th>Data Type</th>\n",
              "      <th>Null Data</th>\n",
              "      <th>Number Unique</th>\n",
              "      <th>Samples</th>\n",
              "    </tr>\n",
              "  </thead>\n",
              "  <tbody>\n",
              "    <tr>\n",
              "      <th>0</th>\n",
              "      <td>loan_id</td>\n",
              "      <td>object</td>\n",
              "      <td>0</td>\n",
              "      <td>429</td>\n",
              "      <td>[LP001002, LP001003, LP001005, LP001006, LP001...</td>\n",
              "    </tr>\n",
              "    <tr>\n",
              "      <th>1</th>\n",
              "      <td>birth_date</td>\n",
              "      <td>object</td>\n",
              "      <td>0</td>\n",
              "      <td>411</td>\n",
              "      <td>[1977-05-15, 1979-08-24, 1991-03-28, 1980-06-0...</td>\n",
              "    </tr>\n",
              "    <tr>\n",
              "      <th>2</th>\n",
              "      <td>phone_number</td>\n",
              "      <td>float64</td>\n",
              "      <td>0</td>\n",
              "      <td>429</td>\n",
              "      <td>[628114203187.0, 628776449212.0, 628119240537....</td>\n",
              "    </tr>\n",
              "    <tr>\n",
              "      <th>3</th>\n",
              "      <td>gender</td>\n",
              "      <td>object</td>\n",
              "      <td>0</td>\n",
              "      <td>2</td>\n",
              "      <td>[Male, Female]</td>\n",
              "    </tr>\n",
              "    <tr>\n",
              "      <th>4</th>\n",
              "      <td>married</td>\n",
              "      <td>object</td>\n",
              "      <td>0</td>\n",
              "      <td>2</td>\n",
              "      <td>[No, Yes]</td>\n",
              "    </tr>\n",
              "    <tr>\n",
              "      <th>5</th>\n",
              "      <td>dependents</td>\n",
              "      <td>object</td>\n",
              "      <td>0</td>\n",
              "      <td>4</td>\n",
              "      <td>[0, 1, 2, 3+]</td>\n",
              "    </tr>\n",
              "    <tr>\n",
              "      <th>6</th>\n",
              "      <td>education</td>\n",
              "      <td>object</td>\n",
              "      <td>0</td>\n",
              "      <td>2</td>\n",
              "      <td>[Graduate, Not Graduate]</td>\n",
              "    </tr>\n",
              "    <tr>\n",
              "      <th>7</th>\n",
              "      <td>self_employed</td>\n",
              "      <td>object</td>\n",
              "      <td>0</td>\n",
              "      <td>2</td>\n",
              "      <td>[No, Yes]</td>\n",
              "    </tr>\n",
              "    <tr>\n",
              "      <th>8</th>\n",
              "      <td>applicant_income</td>\n",
              "      <td>float64</td>\n",
              "      <td>0</td>\n",
              "      <td>368</td>\n",
              "      <td>[5849.0, 4583.0, 3000.0, 2583.0, 6000.0, 5417....</td>\n",
              "    </tr>\n",
              "    <tr>\n",
              "      <th>9</th>\n",
              "      <td>coapplicant_income</td>\n",
              "      <td>float64</td>\n",
              "      <td>0</td>\n",
              "      <td>211</td>\n",
              "      <td>[0.0, 1508.0, 2358.0, 4196.0, 1516.0, 2504.0, ...</td>\n",
              "    </tr>\n",
              "    <tr>\n",
              "      <th>10</th>\n",
              "      <td>loan_amount</td>\n",
              "      <td>int64</td>\n",
              "      <td>0</td>\n",
              "      <td>172</td>\n",
              "      <td>[100000, 128000, 66000, 120000, 141000, 267000...</td>\n",
              "    </tr>\n",
              "    <tr>\n",
              "      <th>11</th>\n",
              "      <td>loan_term_month</td>\n",
              "      <td>int64</td>\n",
              "      <td>0</td>\n",
              "      <td>9</td>\n",
              "      <td>[360, 120, 180, 60, 300, 480, 240, 36, 84]</td>\n",
              "    </tr>\n",
              "    <tr>\n",
              "      <th>12</th>\n",
              "      <td>loan_term_year</td>\n",
              "      <td>int64</td>\n",
              "      <td>0</td>\n",
              "      <td>9</td>\n",
              "      <td>[30, 10, 15, 5, 25, 40, 20, 3, 7]</td>\n",
              "    </tr>\n",
              "    <tr>\n",
              "      <th>13</th>\n",
              "      <td>credit_history</td>\n",
              "      <td>float64</td>\n",
              "      <td>0</td>\n",
              "      <td>2</td>\n",
              "      <td>[1.0, 0.0]</td>\n",
              "    </tr>\n",
              "    <tr>\n",
              "      <th>14</th>\n",
              "      <td>has_credit_card</td>\n",
              "      <td>object</td>\n",
              "      <td>382</td>\n",
              "      <td>2</td>\n",
              "      <td>[nan, no, yes]</td>\n",
              "    </tr>\n",
              "    <tr>\n",
              "      <th>15</th>\n",
              "      <td>property_type</td>\n",
              "      <td>object</td>\n",
              "      <td>0</td>\n",
              "      <td>3</td>\n",
              "      <td>[house, studio, apartment]</td>\n",
              "    </tr>\n",
              "    <tr>\n",
              "      <th>16</th>\n",
              "      <td>loan_status</td>\n",
              "      <td>object</td>\n",
              "      <td>0</td>\n",
              "      <td>2</td>\n",
              "      <td>[APPROVE, REJECT]</td>\n",
              "    </tr>\n",
              "  </tbody>\n",
              "</table>\n",
              "</div>"
            ],
            "text/plain": [
              "               Feature Data Type  Null Data  Number Unique  \\\n",
              "0              loan_id    object          0            429   \n",
              "1           birth_date    object          0            411   \n",
              "2         phone_number   float64          0            429   \n",
              "3               gender    object          0              2   \n",
              "4              married    object          0              2   \n",
              "5           dependents    object          0              4   \n",
              "6            education    object          0              2   \n",
              "7        self_employed    object          0              2   \n",
              "8     applicant_income   float64          0            368   \n",
              "9   coapplicant_income   float64          0            211   \n",
              "10         loan_amount     int64          0            172   \n",
              "11     loan_term_month     int64          0              9   \n",
              "12      loan_term_year     int64          0              9   \n",
              "13      credit_history   float64          0              2   \n",
              "14     has_credit_card    object        382              2   \n",
              "15       property_type    object          0              3   \n",
              "16         loan_status    object          0              2   \n",
              "\n",
              "                                              Samples  \n",
              "0   [LP001002, LP001003, LP001005, LP001006, LP001...  \n",
              "1   [1977-05-15, 1979-08-24, 1991-03-28, 1980-06-0...  \n",
              "2   [628114203187.0, 628776449212.0, 628119240537....  \n",
              "3                                      [Male, Female]  \n",
              "4                                           [No, Yes]  \n",
              "5                                       [0, 1, 2, 3+]  \n",
              "6                            [Graduate, Not Graduate]  \n",
              "7                                           [No, Yes]  \n",
              "8   [5849.0, 4583.0, 3000.0, 2583.0, 6000.0, 5417....  \n",
              "9   [0.0, 1508.0, 2358.0, 4196.0, 1516.0, 2504.0, ...  \n",
              "10  [100000, 128000, 66000, 120000, 141000, 267000...  \n",
              "11         [360, 120, 180, 60, 300, 480, 240, 36, 84]  \n",
              "12                  [30, 10, 15, 5, 25, 40, 20, 3, 7]  \n",
              "13                                         [1.0, 0.0]  \n",
              "14                                     [nan, no, yes]  \n",
              "15                         [house, studio, apartment]  \n",
              "16                                  [APPROVE, REJECT]  "
            ]
          },
          "execution_count": 27,
          "metadata": {},
          "output_type": "execute_result"
        }
      ],
      "source": [
        "check_overal_status(df_drop)"
      ]
    },
    {
      "cell_type": "markdown",
      "id": "n9AwhQ_0yi7q",
      "metadata": {
        "id": "n9AwhQ_0yi7q"
      },
      "source": [
        "check frequency for `has_credit_card` and `credit_history` feature"
      ]
    },
    {
      "cell_type": "code",
      "execution_count": 28,
      "id": "j2K4cwWlynz7",
      "metadata": {
        "colab": {
          "base_uri": "https://localhost:8080/"
        },
        "id": "j2K4cwWlynz7",
        "outputId": "9da19ed0-9c8c-4016-869c-87dc3a255f8c"
      },
      "outputs": [
        {
          "data": {
            "text/plain": [
              "no     30\n",
              "yes    22\n",
              "Name: has_credit_card, dtype: int64"
            ]
          },
          "execution_count": 28,
          "metadata": {},
          "output_type": "execute_result"
        }
      ],
      "source": [
        "df_drop.has_credit_card.value_counts()"
      ]
    },
    {
      "cell_type": "code",
      "execution_count": 29,
      "id": "jd3R8uLFynvD",
      "metadata": {
        "colab": {
          "base_uri": "https://localhost:8080/"
        },
        "id": "jd3R8uLFynvD",
        "outputId": "705f0bb1-44fb-4ada-ac61-2cdb6e466734"
      },
      "outputs": [
        {
          "data": {
            "text/plain": [
              "1.0    366\n",
              "0.0     68\n",
              "Name: credit_history, dtype: int64"
            ]
          },
          "execution_count": 29,
          "metadata": {},
          "output_type": "execute_result"
        }
      ],
      "source": [
        "df_drop.credit_history.value_counts()"
      ]
    },
    {
      "cell_type": "code",
      "execution_count": 30,
      "id": "VZ05BUYt4aoB",
      "metadata": {
        "id": "VZ05BUYt4aoB"
      },
      "outputs": [],
      "source": [
        "has_card_zero_credit = df_drop.loc[(df_drop['has_credit_card'] == 'yes') & (df_drop['credit_history'] == 0.0), :]\n",
        "no_card_zero_credit = df_drop.loc[(df_drop['has_credit_card'] == 'no') & (df_drop['credit_history'] == 0.0), :]\n",
        "\n",
        "has_card_and_credit = df_drop.loc[(df_drop['has_credit_card'] == 'yes') & (df_drop['credit_history'] == 1.0), :]\n",
        "no_card_have_credit = df_drop.loc[(df_drop['has_credit_card'] == 'no') & (df_drop['credit_history'] == 1.0), :]\n",
        "\n",
        "null_card_zero_credit = df_drop.loc[(df_drop['has_credit_card'].isna()) & (df_drop['credit_history'] == 0.0), :]\n",
        "null_card_have_credit = df_drop.loc[(df_drop['has_credit_card'].isna()) & (df_drop['credit_history'] == 1.0), :]"
      ]
    },
    {
      "cell_type": "code",
      "execution_count": 31,
      "id": "P0AE4ndS86bT",
      "metadata": {
        "id": "P0AE4ndS86bT"
      },
      "outputs": [],
      "source": [
        "temp_credit = [has_card_zero_credit, no_card_zero_credit ,has_card_and_credit,\n",
        "               no_card_have_credit, null_card_zero_credit, null_card_have_credit]\n",
        "\n",
        "len_credit = [len(i) for i in temp_credit]\n",
        "\n",
        "data = {'name': ['has_card_zero_credit', 'no_card_zero_credit' ,'has_card_and_credit',\n",
        "               'no_card_have_credit', 'null_card_zero_credit', 'null_card_have_credit'],\n",
        "        'len': len_credit}"
      ]
    },
    {
      "cell_type": "code",
      "execution_count": 32,
      "id": "RJE4p0tdCEiL",
      "metadata": {
        "colab": {
          "base_uri": "https://localhost:8080/",
          "height": 398
        },
        "id": "RJE4p0tdCEiL",
        "outputId": "c5831321-ca95-4b3a-9097-953d1265910c"
      },
      "outputs": [
        {
          "data": {
            "image/png": "[encoded data removed]",
            "text/plain": [
              "<Figure size 720x432 with 1 Axes>"
            ]
          },
          "metadata": {},
          "output_type": "display_data"
        }
      ],
      "source": [
        "plt.figure(figsize=(10,6))\n",
        "ax = sns.barplot(data=data, x='len', y='name', \n",
        "                orient='h', palette=palette_colors)\n",
        "ax.bar_label(ax.containers[0])\n",
        "\n",
        "plt.show()"
      ]
    },
    {
      "cell_type": "markdown",
      "id": "hv9KYhz9HeV-",
      "metadata": {
        "id": "hv9KYhz9HeV-"
      },
      "source": [
        "I have no idea for `nan` value in feature `has_credit_card` so better to skip this one until get more description."
      ]
    },
    {
      "cell_type": "code",
      "execution_count": 33,
      "id": "mFY71kWBSjmj",
      "metadata": {
        "id": "mFY71kWBSjmj"
      },
      "outputs": [],
      "source": [
        "df_drop = df_drop.drop('has_credit_card', axis=1)"
      ]
    },
    {
      "cell_type": "markdown",
      "id": "d75d760e",
      "metadata": {
        "id": "d75d760e"
      },
      "source": [
        "## Handling duplicated data"
      ]
    },
    {
      "cell_type": "code",
      "execution_count": 34,
      "id": "f040795a",
      "metadata": {
        "colab": {
          "base_uri": "https://localhost:8080/",
          "height": 206
        },
        "id": "f040795a",
        "outputId": "7bd5f7ae-39e2-412b-b0cf-62e9d73d396a"
      },
      "outputs": [
        {
          "data": {
            "text/html": [
              "<div>\n",
              "<style scoped>\n",
              "    .dataframe tbody tr th:only-of-type {\n",
              "        vertical-align: middle;\n",
              "    }\n",
              "\n",
              "    .dataframe tbody tr th {\n",
              "        vertical-align: top;\n",
              "    }\n",
              "\n",
              "    .dataframe thead th {\n",
              "        text-align: right;\n",
              "    }\n",
              "</style>\n",
              "<table border=\"1\" class=\"dataframe\">\n",
              "  <thead>\n",
              "    <tr style=\"text-align: right;\">\n",
              "      <th></th>\n",
              "      <th>loan_id</th>\n",
              "      <th>birth_date</th>\n",
              "      <th>phone_number</th>\n",
              "      <th>gender</th>\n",
              "      <th>married</th>\n",
              "      <th>dependents</th>\n",
              "      <th>education</th>\n",
              "      <th>self_employed</th>\n",
              "      <th>applicant_income</th>\n",
              "      <th>coapplicant_income</th>\n",
              "      <th>loan_amount</th>\n",
              "      <th>loan_term_month</th>\n",
              "      <th>loan_term_year</th>\n",
              "      <th>credit_history</th>\n",
              "      <th>property_type</th>\n",
              "      <th>loan_status</th>\n",
              "    </tr>\n",
              "  </thead>\n",
              "  <tbody>\n",
              "    <tr>\n",
              "      <th>90</th>\n",
              "      <td>LP001310</td>\n",
              "      <td>1987-10-18</td>\n",
              "      <td>6.281310e+11</td>\n",
              "      <td>Male</td>\n",
              "      <td>Yes</td>\n",
              "      <td>0</td>\n",
              "      <td>Graduate</td>\n",
              "      <td>No</td>\n",
              "      <td>5695.0</td>\n",
              "      <td>4167.0</td>\n",
              "      <td>175000</td>\n",
              "      <td>360</td>\n",
              "      <td>30</td>\n",
              "      <td>1.0</td>\n",
              "      <td>apartment</td>\n",
              "      <td>APPROVE</td>\n",
              "    </tr>\n",
              "    <tr>\n",
              "      <th>279</th>\n",
              "      <td>LP001904</td>\n",
              "      <td>1986-01-30</td>\n",
              "      <td>6.281152e+10</td>\n",
              "      <td>Male</td>\n",
              "      <td>Yes</td>\n",
              "      <td>0</td>\n",
              "      <td>Graduate</td>\n",
              "      <td>No</td>\n",
              "      <td>3103.0</td>\n",
              "      <td>1300.0</td>\n",
              "      <td>80000</td>\n",
              "      <td>360</td>\n",
              "      <td>30</td>\n",
              "      <td>1.0</td>\n",
              "      <td>house</td>\n",
              "      <td>APPROVE</td>\n",
              "    </tr>\n",
              "    <tr>\n",
              "      <th>308</th>\n",
              "      <td>LP001990</td>\n",
              "      <td>1980-08-03</td>\n",
              "      <td>6.285279e+11</td>\n",
              "      <td>Male</td>\n",
              "      <td>No</td>\n",
              "      <td>0</td>\n",
              "      <td>Not Graduate</td>\n",
              "      <td>No</td>\n",
              "      <td>2000.0</td>\n",
              "      <td>0.0</td>\n",
              "      <td>119000</td>\n",
              "      <td>360</td>\n",
              "      <td>30</td>\n",
              "      <td>1.0</td>\n",
              "      <td>house</td>\n",
              "      <td>REJECT</td>\n",
              "    </tr>\n",
              "    <tr>\n",
              "      <th>363</th>\n",
              "      <td>LP002160</td>\n",
              "      <td>1990-11-27</td>\n",
              "      <td>6.281153e+11</td>\n",
              "      <td>Male</td>\n",
              "      <td>Yes</td>\n",
              "      <td>3+</td>\n",
              "      <td>Graduate</td>\n",
              "      <td>No</td>\n",
              "      <td>5167.0</td>\n",
              "      <td>3167.0</td>\n",
              "      <td>200000</td>\n",
              "      <td>360</td>\n",
              "      <td>30</td>\n",
              "      <td>1.0</td>\n",
              "      <td>apartment</td>\n",
              "      <td>APPROVE</td>\n",
              "    </tr>\n",
              "    <tr>\n",
              "      <th>401</th>\n",
              "      <td>LP002277</td>\n",
              "      <td>1972-06-12</td>\n",
              "      <td>6.281384e+11</td>\n",
              "      <td>Female</td>\n",
              "      <td>No</td>\n",
              "      <td>0</td>\n",
              "      <td>Graduate</td>\n",
              "      <td>No</td>\n",
              "      <td>3180.0</td>\n",
              "      <td>0.0</td>\n",
              "      <td>71000</td>\n",
              "      <td>360</td>\n",
              "      <td>30</td>\n",
              "      <td>0.0</td>\n",
              "      <td>house</td>\n",
              "      <td>REJECT</td>\n",
              "    </tr>\n",
              "  </tbody>\n",
              "</table>\n",
              "</div>"
            ],
            "text/plain": [
              "      loan_id  birth_date  phone_number  gender married dependents  \\\n",
              "90   LP001310  1987-10-18  6.281310e+11    Male     Yes          0   \n",
              "279  LP001904  1986-01-30  6.281152e+10    Male     Yes          0   \n",
              "308  LP001990  1980-08-03  6.285279e+11    Male      No          0   \n",
              "363  LP002160  1990-11-27  6.281153e+11    Male     Yes         3+   \n",
              "401  LP002277  1972-06-12  6.281384e+11  Female      No          0   \n",
              "\n",
              "        education self_employed  applicant_income  coapplicant_income  \\\n",
              "90       Graduate            No            5695.0              4167.0   \n",
              "279      Graduate            No            3103.0              1300.0   \n",
              "308  Not Graduate            No            2000.0                 0.0   \n",
              "363      Graduate            No            5167.0              3167.0   \n",
              "401      Graduate            No            3180.0                 0.0   \n",
              "\n",
              "     loan_amount  loan_term_month  loan_term_year  credit_history  \\\n",
              "90        175000              360              30             1.0   \n",
              "279        80000              360              30             1.0   \n",
              "308       119000              360              30             1.0   \n",
              "363       200000              360              30             1.0   \n",
              "401        71000              360              30             0.0   \n",
              "\n",
              "    property_type loan_status  \n",
              "90      apartment     APPROVE  \n",
              "279         house     APPROVE  \n",
              "308         house      REJECT  \n",
              "363     apartment     APPROVE  \n",
              "401         house      REJECT  "
            ]
          },
          "execution_count": 34,
          "metadata": {},
          "output_type": "execute_result"
        }
      ],
      "source": [
        "df_drop[df_drop.duplicated()]"
      ]
    },
    {
      "cell_type": "code",
      "execution_count": 35,
      "id": "bHmx4CQqEP0m",
      "metadata": {
        "colab": {
          "base_uri": "https://localhost:8080/",
          "height": 112
        },
        "id": "bHmx4CQqEP0m",
        "outputId": "683315f2-820e-47f5-a936-471723acfef1"
      },
      "outputs": [
        {
          "data": {
            "text/html": [
              "<div>\n",
              "<style scoped>\n",
              "    .dataframe tbody tr th:only-of-type {\n",
              "        vertical-align: middle;\n",
              "    }\n",
              "\n",
              "    .dataframe tbody tr th {\n",
              "        vertical-align: top;\n",
              "    }\n",
              "\n",
              "    .dataframe thead th {\n",
              "        text-align: right;\n",
              "    }\n",
              "</style>\n",
              "<table border=\"1\" class=\"dataframe\">\n",
              "  <thead>\n",
              "    <tr style=\"text-align: right;\">\n",
              "      <th></th>\n",
              "      <th>loan_id</th>\n",
              "      <th>birth_date</th>\n",
              "      <th>phone_number</th>\n",
              "      <th>gender</th>\n",
              "      <th>married</th>\n",
              "      <th>dependents</th>\n",
              "      <th>education</th>\n",
              "      <th>self_employed</th>\n",
              "      <th>applicant_income</th>\n",
              "      <th>coapplicant_income</th>\n",
              "      <th>loan_amount</th>\n",
              "      <th>loan_term_month</th>\n",
              "      <th>loan_term_year</th>\n",
              "      <th>credit_history</th>\n",
              "      <th>property_type</th>\n",
              "      <th>loan_status</th>\n",
              "    </tr>\n",
              "  </thead>\n",
              "  <tbody>\n",
              "    <tr>\n",
              "      <th>278</th>\n",
              "      <td>LP001904</td>\n",
              "      <td>1986-01-30</td>\n",
              "      <td>6.281152e+10</td>\n",
              "      <td>Male</td>\n",
              "      <td>Yes</td>\n",
              "      <td>0</td>\n",
              "      <td>Graduate</td>\n",
              "      <td>No</td>\n",
              "      <td>3103.0</td>\n",
              "      <td>1300.0</td>\n",
              "      <td>80000</td>\n",
              "      <td>360</td>\n",
              "      <td>30</td>\n",
              "      <td>1.0</td>\n",
              "      <td>house</td>\n",
              "      <td>APPROVE</td>\n",
              "    </tr>\n",
              "    <tr>\n",
              "      <th>279</th>\n",
              "      <td>LP001904</td>\n",
              "      <td>1986-01-30</td>\n",
              "      <td>6.281152e+10</td>\n",
              "      <td>Male</td>\n",
              "      <td>Yes</td>\n",
              "      <td>0</td>\n",
              "      <td>Graduate</td>\n",
              "      <td>No</td>\n",
              "      <td>3103.0</td>\n",
              "      <td>1300.0</td>\n",
              "      <td>80000</td>\n",
              "      <td>360</td>\n",
              "      <td>30</td>\n",
              "      <td>1.0</td>\n",
              "      <td>house</td>\n",
              "      <td>APPROVE</td>\n",
              "    </tr>\n",
              "  </tbody>\n",
              "</table>\n",
              "</div>"
            ],
            "text/plain": [
              "      loan_id  birth_date  phone_number gender married dependents education  \\\n",
              "278  LP001904  1986-01-30  6.281152e+10   Male     Yes          0  Graduate   \n",
              "279  LP001904  1986-01-30  6.281152e+10   Male     Yes          0  Graduate   \n",
              "\n",
              "    self_employed  applicant_income  coapplicant_income  loan_amount  \\\n",
              "278            No            3103.0              1300.0        80000   \n",
              "279            No            3103.0              1300.0        80000   \n",
              "\n",
              "     loan_term_month  loan_term_year  credit_history property_type loan_status  \n",
              "278              360              30             1.0         house     APPROVE  \n",
              "279              360              30             1.0         house     APPROVE  "
            ]
          },
          "execution_count": 35,
          "metadata": {},
          "output_type": "execute_result"
        }
      ],
      "source": [
        "df_drop[df_drop['loan_id'].isin(['LP001904'])]"
      ]
    },
    {
      "cell_type": "code",
      "execution_count": 36,
      "id": "oepVZy7JEnm_",
      "metadata": {
        "id": "oepVZy7JEnm_"
      },
      "outputs": [],
      "source": [
        "clear_df = df_drop.drop_duplicates(subset=['loan_id'])"
      ]
    },
    {
      "cell_type": "code",
      "execution_count": 37,
      "id": "LKTMDPgwFY1V",
      "metadata": {
        "colab": {
          "base_uri": "https://localhost:8080/"
        },
        "id": "LKTMDPgwFY1V",
        "outputId": "fcea0c3a-bae1-4af0-8283-b4155372a675"
      },
      "outputs": [
        {
          "name": "stdout",
          "output_type": "stream",
          "text": [
            "Total Duplicate Data: 0\n"
          ]
        }
      ],
      "source": [
        "print(f'Total Duplicate Data: {clear_df.duplicated().sum()}')"
      ]
    },
    {
      "cell_type": "markdown",
      "id": "a73632f3",
      "metadata": {
        "id": "a73632f3"
      },
      "source": [
        "## Handling Outlier"
      ]
    },
    {
      "cell_type": "markdown",
      "id": "3ROi3RIfUbRr",
      "metadata": {
        "id": "3ROi3RIfUbRr"
      },
      "source": [
        "I use Z-score for handling outlier"
      ]
    },
    {
      "cell_type": "code",
      "execution_count": 38,
      "id": "dfbec136",
      "metadata": {
        "colab": {
          "base_uri": "https://localhost:8080/"
        },
        "id": "dfbec136",
        "outputId": "12fcb881-bb78-48e4-be94-b104fb653bf4"
      },
      "outputs": [
        {
          "name": "stdout",
          "output_type": "stream",
          "text": [
            "With threshold 3.0 data loss is 3.73%\n",
            "With threshold 3.2 data loss is 3.5%\n",
            "With threshold 3.4 data loss is 3.03%\n",
            "With threshold 3.6 data loss is 2.8%\n",
            "With threshold 3.8 data loss is 2.33%\n",
            "With threshold 4.0 data loss is 2.33%\n",
            "With threshold 4.2 data loss is 2.33%\n",
            "With threshold 4.4 data loss is 2.1%\n",
            "With threshold 4.6 data loss is 1.63%\n",
            "With threshold 4.8 data loss is 1.63%\n"
          ]
        }
      ],
      "source": [
        "outlier_column = ['applicant_income', 'coapplicant_income', 'loan_amount']\n",
        "\n",
        "z = np.abs(zscore(clear_df[outlier_column]))\n",
        "\n",
        "threshold(z, clear_df[outlier_column])"
      ]
    },
    {
      "cell_type": "markdown",
      "id": "6icMji1uUif8",
      "metadata": {
        "id": "6icMji1uUif8"
      },
      "source": [
        "I use threshold < 3 because has highest loss data"
      ]
    },
    {
      "cell_type": "code",
      "execution_count": 39,
      "id": "XPdN3gnnUDMP",
      "metadata": {
        "id": "XPdN3gnnUDMP"
      },
      "outputs": [],
      "source": [
        "clear_df_without_outlier = clear_df[(z < 3.0).all(axis=1)]"
      ]
    },
    {
      "cell_type": "code",
      "execution_count": 40,
      "id": "6DUHI-vFUT12",
      "metadata": {
        "colab": {
          "base_uri": "https://localhost:8080/"
        },
        "id": "6DUHI-vFUT12",
        "outputId": "5e16a69c-4c66-4564-c3a5-44c76cb13843"
      },
      "outputs": [
        {
          "name": "stdout",
          "output_type": "stream",
          "text": [
            "Total Data before Handling outliers : 429\n",
            "Total Data after Handling outliers : 413\n"
          ]
        }
      ],
      "source": [
        "print(f'Total Data before Handling outliers : {clear_df.shape[0]}')\n",
        "print(f'Total Data after Handling outliers : {clear_df_without_outlier.shape[0]}')"
      ]
    },
    {
      "cell_type": "markdown",
      "id": "659efbd3",
      "metadata": {
        "id": "659efbd3"
      },
      "source": [
        "## Feature Encoding"
      ]
    },
    {
      "cell_type": "code",
      "execution_count": 41,
      "id": "20e217a2",
      "metadata": {
        "id": "20e217a2"
      },
      "outputs": [],
      "source": [
        "encode_df = clear_df_without_outlier.copy()"
      ]
    },
    {
      "cell_type": "code",
      "execution_count": 42,
      "id": "O1BzBVf7fG6i",
      "metadata": {
        "id": "O1BzBVf7fG6i"
      },
      "outputs": [],
      "source": [
        "# Encode Binary Value\n",
        "\n",
        "encode_df['gender'] = np.where(encode_df[\"gender\"].str.contains(\"Male\"), 1, 0)\n",
        "encode_df['married'] = np.where(encode_df[\"married\"].str.contains(\"Yes\"), 1, 0)\n",
        "encode_df['education'] = np.where(encode_df[\"education\"] == 'Graduate', 1, 0)\n",
        "encode_df['self_employed'] = np.where(encode_df[\"self_employed\"].str.contains(\"Yes\"), 1, 0)"
      ]
    },
    {
      "cell_type": "code",
      "execution_count": 43,
      "id": "cxNoWXbYhHt3",
      "metadata": {
        "id": "cxNoWXbYhHt3"
      },
      "outputs": [],
      "source": [
        "encode_df['property_type'] = encode_df['property_type'].astype('category')\n",
        "encode_df['property_type']= encode_df['property_type'].cat.codes"
      ]
    },
    {
      "cell_type": "code",
      "execution_count": 44,
      "id": "7754f3e2",
      "metadata": {},
      "outputs": [],
      "source": [
        "encode_df['phone_number'] = encode_df['phone_number'].astype('int64')"
      ]
    },
    {
      "cell_type": "code",
      "execution_count": 45,
      "id": "GX5p_Ilehw4I",
      "metadata": {
        "colab": {
          "base_uri": "https://localhost:8080/",
          "height": 363
        },
        "id": "GX5p_Ilehw4I",
        "outputId": "e6f20eea-6b7c-4281-8f6b-0027e83d309a"
      },
      "outputs": [
        {
          "data": {
            "text/html": [
              "<div>\n",
              "<style scoped>\n",
              "    .dataframe tbody tr th:only-of-type {\n",
              "        vertical-align: middle;\n",
              "    }\n",
              "\n",
              "    .dataframe tbody tr th {\n",
              "        vertical-align: top;\n",
              "    }\n",
              "\n",
              "    .dataframe thead th {\n",
              "        text-align: right;\n",
              "    }\n",
              "</style>\n",
              "<table border=\"1\" class=\"dataframe\">\n",
              "  <thead>\n",
              "    <tr style=\"text-align: right;\">\n",
              "      <th></th>\n",
              "      <th>loan_id</th>\n",
              "      <th>birth_date</th>\n",
              "      <th>phone_number</th>\n",
              "      <th>gender</th>\n",
              "      <th>married</th>\n",
              "      <th>dependents</th>\n",
              "      <th>education</th>\n",
              "      <th>self_employed</th>\n",
              "      <th>applicant_income</th>\n",
              "      <th>coapplicant_income</th>\n",
              "      <th>loan_amount</th>\n",
              "      <th>loan_term_month</th>\n",
              "      <th>loan_term_year</th>\n",
              "      <th>credit_history</th>\n",
              "      <th>property_type</th>\n",
              "      <th>loan_status</th>\n",
              "    </tr>\n",
              "  </thead>\n",
              "  <tbody>\n",
              "    <tr>\n",
              "      <th>0</th>\n",
              "      <td>LP001002</td>\n",
              "      <td>1977-05-15</td>\n",
              "      <td>628114203187</td>\n",
              "      <td>1</td>\n",
              "      <td>0</td>\n",
              "      <td>0</td>\n",
              "      <td>1</td>\n",
              "      <td>0</td>\n",
              "      <td>5849.0</td>\n",
              "      <td>0.0</td>\n",
              "      <td>100000</td>\n",
              "      <td>360</td>\n",
              "      <td>30</td>\n",
              "      <td>1.0</td>\n",
              "      <td>1</td>\n",
              "      <td>APPROVE</td>\n",
              "    </tr>\n",
              "    <tr>\n",
              "      <th>1</th>\n",
              "      <td>LP001003</td>\n",
              "      <td>1979-08-24</td>\n",
              "      <td>628776449212</td>\n",
              "      <td>1</td>\n",
              "      <td>1</td>\n",
              "      <td>1</td>\n",
              "      <td>1</td>\n",
              "      <td>0</td>\n",
              "      <td>4583.0</td>\n",
              "      <td>1508.0</td>\n",
              "      <td>128000</td>\n",
              "      <td>360</td>\n",
              "      <td>30</td>\n",
              "      <td>1.0</td>\n",
              "      <td>2</td>\n",
              "      <td>REJECT</td>\n",
              "    </tr>\n",
              "    <tr>\n",
              "      <th>2</th>\n",
              "      <td>LP001005</td>\n",
              "      <td>1991-03-28</td>\n",
              "      <td>628119240537</td>\n",
              "      <td>1</td>\n",
              "      <td>1</td>\n",
              "      <td>0</td>\n",
              "      <td>1</td>\n",
              "      <td>1</td>\n",
              "      <td>3000.0</td>\n",
              "      <td>0.0</td>\n",
              "      <td>66000</td>\n",
              "      <td>360</td>\n",
              "      <td>30</td>\n",
              "      <td>1.0</td>\n",
              "      <td>1</td>\n",
              "      <td>APPROVE</td>\n",
              "    </tr>\n",
              "    <tr>\n",
              "      <th>3</th>\n",
              "      <td>LP001006</td>\n",
              "      <td>1980-06-02</td>\n",
              "      <td>62856343702</td>\n",
              "      <td>1</td>\n",
              "      <td>1</td>\n",
              "      <td>0</td>\n",
              "      <td>0</td>\n",
              "      <td>0</td>\n",
              "      <td>2583.0</td>\n",
              "      <td>2358.0</td>\n",
              "      <td>120000</td>\n",
              "      <td>360</td>\n",
              "      <td>30</td>\n",
              "      <td>1.0</td>\n",
              "      <td>1</td>\n",
              "      <td>APPROVE</td>\n",
              "    </tr>\n",
              "    <tr>\n",
              "      <th>4</th>\n",
              "      <td>LP001008</td>\n",
              "      <td>1989-05-19</td>\n",
              "      <td>628113008687</td>\n",
              "      <td>1</td>\n",
              "      <td>0</td>\n",
              "      <td>0</td>\n",
              "      <td>1</td>\n",
              "      <td>0</td>\n",
              "      <td>6000.0</td>\n",
              "      <td>0.0</td>\n",
              "      <td>141000</td>\n",
              "      <td>360</td>\n",
              "      <td>30</td>\n",
              "      <td>1.0</td>\n",
              "      <td>1</td>\n",
              "      <td>APPROVE</td>\n",
              "    </tr>\n",
              "    <tr>\n",
              "      <th>5</th>\n",
              "      <td>LP001011</td>\n",
              "      <td>1986-01-22</td>\n",
              "      <td>62811028825</td>\n",
              "      <td>1</td>\n",
              "      <td>1</td>\n",
              "      <td>2</td>\n",
              "      <td>1</td>\n",
              "      <td>1</td>\n",
              "      <td>5417.0</td>\n",
              "      <td>4196.0</td>\n",
              "      <td>267000</td>\n",
              "      <td>360</td>\n",
              "      <td>30</td>\n",
              "      <td>1.0</td>\n",
              "      <td>1</td>\n",
              "      <td>APPROVE</td>\n",
              "    </tr>\n",
              "    <tr>\n",
              "      <th>6</th>\n",
              "      <td>LP001013</td>\n",
              "      <td>1979-06-16</td>\n",
              "      <td>628111840127</td>\n",
              "      <td>1</td>\n",
              "      <td>1</td>\n",
              "      <td>0</td>\n",
              "      <td>0</td>\n",
              "      <td>0</td>\n",
              "      <td>2333.0</td>\n",
              "      <td>1516.0</td>\n",
              "      <td>95000</td>\n",
              "      <td>360</td>\n",
              "      <td>30</td>\n",
              "      <td>1.0</td>\n",
              "      <td>1</td>\n",
              "      <td>APPROVE</td>\n",
              "    </tr>\n",
              "    <tr>\n",
              "      <th>7</th>\n",
              "      <td>LP001014</td>\n",
              "      <td>1999-05-21</td>\n",
              "      <td>628567566695</td>\n",
              "      <td>1</td>\n",
              "      <td>1</td>\n",
              "      <td>3+</td>\n",
              "      <td>1</td>\n",
              "      <td>0</td>\n",
              "      <td>3036.0</td>\n",
              "      <td>2504.0</td>\n",
              "      <td>158000</td>\n",
              "      <td>360</td>\n",
              "      <td>30</td>\n",
              "      <td>0.0</td>\n",
              "      <td>0</td>\n",
              "      <td>REJECT</td>\n",
              "    </tr>\n",
              "    <tr>\n",
              "      <th>8</th>\n",
              "      <td>LP001018</td>\n",
              "      <td>1987-08-25</td>\n",
              "      <td>628528959314</td>\n",
              "      <td>1</td>\n",
              "      <td>1</td>\n",
              "      <td>2</td>\n",
              "      <td>1</td>\n",
              "      <td>0</td>\n",
              "      <td>4006.0</td>\n",
              "      <td>1526.0</td>\n",
              "      <td>168000</td>\n",
              "      <td>360</td>\n",
              "      <td>30</td>\n",
              "      <td>1.0</td>\n",
              "      <td>1</td>\n",
              "      <td>APPROVE</td>\n",
              "    </tr>\n",
              "    <tr>\n",
              "      <th>10</th>\n",
              "      <td>LP001024</td>\n",
              "      <td>1984-03-08</td>\n",
              "      <td>628116652331</td>\n",
              "      <td>1</td>\n",
              "      <td>1</td>\n",
              "      <td>2</td>\n",
              "      <td>1</td>\n",
              "      <td>0</td>\n",
              "      <td>3200.0</td>\n",
              "      <td>700.0</td>\n",
              "      <td>70000</td>\n",
              "      <td>360</td>\n",
              "      <td>30</td>\n",
              "      <td>1.0</td>\n",
              "      <td>1</td>\n",
              "      <td>APPROVE</td>\n",
              "    </tr>\n",
              "  </tbody>\n",
              "</table>\n",
              "</div>"
            ],
            "text/plain": [
              "     loan_id  birth_date  phone_number  gender  married dependents  education  \\\n",
              "0   LP001002  1977-05-15  628114203187       1        0          0          1   \n",
              "1   LP001003  1979-08-24  628776449212       1        1          1          1   \n",
              "2   LP001005  1991-03-28  628119240537       1        1          0          1   \n",
              "3   LP001006  1980-06-02   62856343702       1        1          0          0   \n",
              "4   LP001008  1989-05-19  628113008687       1        0          0          1   \n",
              "5   LP001011  1986-01-22   62811028825       1        1          2          1   \n",
              "6   LP001013  1979-06-16  628111840127       1        1          0          0   \n",
              "7   LP001014  1999-05-21  628567566695       1        1         3+          1   \n",
              "8   LP001018  1987-08-25  628528959314       1        1          2          1   \n",
              "10  LP001024  1984-03-08  628116652331       1        1          2          1   \n",
              "\n",
              "    self_employed  applicant_income  coapplicant_income  loan_amount  \\\n",
              "0               0            5849.0                 0.0       100000   \n",
              "1               0            4583.0              1508.0       128000   \n",
              "2               1            3000.0                 0.0        66000   \n",
              "3               0            2583.0              2358.0       120000   \n",
              "4               0            6000.0                 0.0       141000   \n",
              "5               1            5417.0              4196.0       267000   \n",
              "6               0            2333.0              1516.0        95000   \n",
              "7               0            3036.0              2504.0       158000   \n",
              "8               0            4006.0              1526.0       168000   \n",
              "10              0            3200.0               700.0        70000   \n",
              "\n",
              "    loan_term_month  loan_term_year  credit_history  property_type loan_status  \n",
              "0               360              30             1.0              1     APPROVE  \n",
              "1               360              30             1.0              2      REJECT  \n",
              "2               360              30             1.0              1     APPROVE  \n",
              "3               360              30             1.0              1     APPROVE  \n",
              "4               360              30             1.0              1     APPROVE  \n",
              "5               360              30             1.0              1     APPROVE  \n",
              "6               360              30             1.0              1     APPROVE  \n",
              "7               360              30             0.0              0      REJECT  \n",
              "8               360              30             1.0              1     APPROVE  \n",
              "10              360              30             1.0              1     APPROVE  "
            ]
          },
          "execution_count": 45,
          "metadata": {},
          "output_type": "execute_result"
        }
      ],
      "source": [
        "encode_df.head(10)"
      ]
    },
    {
      "cell_type": "markdown",
      "id": "meW9Oe1Ein0g",
      "metadata": {
        "id": "meW9Oe1Ein0g"
      },
      "source": [
        "Note Encoder:\n",
        "\n",
        "\n",
        "|Feature|Keywords|\n",
        "|---|---|\n",
        "|gender|`Male`= 1; `Female`= 0|\n",
        "|married|`Yes`= 1; `No`= 0|\n",
        "|education|`Graduate`= 1; `Not Graduate`= 0|\n",
        "|self_employed|`Yes`= 1; `No`= 0|\n",
        "|property_type|`apartement`= 0; `house`= 1; `studio` = 2|"
      ]
    },
    {
      "cell_type": "markdown",
      "id": "a7228757",
      "metadata": {
        "id": "a7228757"
      },
      "source": [
        "# Business Insight"
      ]
    },
    {
      "cell_type": "code",
      "execution_count": 46,
      "id": "86d1cecb",
      "metadata": {
        "id": "86d1cecb"
      },
      "outputs": [],
      "source": [
        "new_df = clear_df_without_outlier.copy()"
      ]
    },
    {
      "cell_type": "markdown",
      "id": "b890d514",
      "metadata": {
        "id": "b890d514"
      },
      "source": [
        "## Analisis minat pelanggan berdasarkan pada tipe properti"
      ]
    },
    {
      "cell_type": "code",
      "execution_count": 47,
      "id": "2_zbNV71roYs",
      "metadata": {
        "colab": {
          "base_uri": "https://localhost:8080/",
          "height": 269
        },
        "id": "2_zbNV71roYs",
        "outputId": "da299a3c-a0f4-499d-8feb-a2a3ad5c6791"
      },
      "outputs": [
        {
          "data": {
            "text/html": [
              "<div>\n",
              "<style scoped>\n",
              "    .dataframe tbody tr th:only-of-type {\n",
              "        vertical-align: middle;\n",
              "    }\n",
              "\n",
              "    .dataframe tbody tr th {\n",
              "        vertical-align: top;\n",
              "    }\n",
              "\n",
              "    .dataframe thead th {\n",
              "        text-align: right;\n",
              "    }\n",
              "</style>\n",
              "<table border=\"1\" class=\"dataframe\">\n",
              "  <thead>\n",
              "    <tr style=\"text-align: right;\">\n",
              "      <th></th>\n",
              "      <th></th>\n",
              "      <th>gender</th>\n",
              "    </tr>\n",
              "    <tr>\n",
              "      <th>property_type</th>\n",
              "      <th>gender</th>\n",
              "      <th></th>\n",
              "    </tr>\n",
              "  </thead>\n",
              "  <tbody>\n",
              "    <tr>\n",
              "      <th rowspan=\"2\" valign=\"top\">apartment</th>\n",
              "      <th>Female</th>\n",
              "      <td>38</td>\n",
              "    </tr>\n",
              "    <tr>\n",
              "      <th>Male</th>\n",
              "      <td>126</td>\n",
              "    </tr>\n",
              "    <tr>\n",
              "      <th rowspan=\"2\" valign=\"top\">house</th>\n",
              "      <th>Female</th>\n",
              "      <td>22</td>\n",
              "    </tr>\n",
              "    <tr>\n",
              "      <th>Male</th>\n",
              "      <td>112</td>\n",
              "    </tr>\n",
              "    <tr>\n",
              "      <th rowspan=\"2\" valign=\"top\">studio</th>\n",
              "      <th>Female</th>\n",
              "      <td>18</td>\n",
              "    </tr>\n",
              "    <tr>\n",
              "      <th>Male</th>\n",
              "      <td>97</td>\n",
              "    </tr>\n",
              "  </tbody>\n",
              "</table>\n",
              "</div>"
            ],
            "text/plain": [
              "                      gender\n",
              "property_type gender        \n",
              "apartment     Female      38\n",
              "              Male       126\n",
              "house         Female      22\n",
              "              Male       112\n",
              "studio        Female      18\n",
              "              Male        97"
            ]
          },
          "execution_count": 47,
          "metadata": {},
          "output_type": "execute_result"
        }
      ],
      "source": [
        "new_df.groupby(['property_type', 'gender']).agg({'gender':'count'})"
      ]
    },
    {
      "cell_type": "code",
      "execution_count": 48,
      "id": "zBt_icX1q24U",
      "metadata": {
        "colab": {
          "base_uri": "https://localhost:8080/",
          "height": 487
        },
        "id": "zBt_icX1q24U",
        "outputId": "1662653c-e826-4744-f43b-da40efa37855"
      },
      "outputs": [
        {
          "data": {
            "image/png": "[encoded data removed]",
            "text/plain": [
              "<Figure size 1700x800 with 1 Axes>"
            ]
          },
          "metadata": {},
          "output_type": "display_data"
        }
      ],
      "source": [
        "plt.style.use('default')\n",
        "plt.figure(figsize=(17,8))\n",
        "\n",
        "ax = sns.countplot(x=new_df['property_type'], hue=new_df['gender'], \n",
        "                    data=new_df, palette=palette_colors, hue_order=['Female','Male'])\n",
        "\n",
        "# Hidden line for x and y \n",
        "ax.spines[\"top\"].set_visible(False)\n",
        "ax.spines[\"right\"].set_visible(False)\n",
        "ax.spines[\"bottom\"].set_visible(False)\n",
        "ax.spines[\"left\"].set_visible(False)\n",
        "\n",
        "# Customize ticks\n",
        "plt.tick_params(axis = 'y', which = 'both', left = False, \n",
        "                right = False, labelleft = False)\n",
        "plt.ylabel('')\n",
        "plt.tick_params(axis = 'x', which = 'both', bottom = True, \n",
        "                top = False, labelbottom = True, pad = 12)\n",
        "plt.xticks(np.arange(3), ['House', 'Studio', 'Apartement'], size = 14)\n",
        "plt.xlabel('')\n",
        "\n",
        "ax.set_title(label='Customer Interest based on Property Type',\n",
        "              fontsize = 20, fontweight='bold', color='#73a1f0', pad=20)\n",
        "\n",
        "# Anote count value\n",
        "for container in ax.containers:\n",
        "  ax.bar_label(container)\n",
        "\n",
        "plt.tight_layout()\n",
        "plt.show()"
      ]
    },
    {
      "cell_type": "code",
      "execution_count": 49,
      "id": "AQRS1eovsAKX",
      "metadata": {
        "id": "AQRS1eovsAKX"
      },
      "outputs": [
        {
          "data": {
            "text/html": [
              "<div>\n",
              "<style scoped>\n",
              "    .dataframe tbody tr th:only-of-type {\n",
              "        vertical-align: middle;\n",
              "    }\n",
              "\n",
              "    .dataframe tbody tr th {\n",
              "        vertical-align: top;\n",
              "    }\n",
              "\n",
              "    .dataframe thead th {\n",
              "        text-align: right;\n",
              "    }\n",
              "</style>\n",
              "<table border=\"1\" class=\"dataframe\">\n",
              "  <thead>\n",
              "    <tr style=\"text-align: right;\">\n",
              "      <th></th>\n",
              "      <th></th>\n",
              "      <th></th>\n",
              "      <th>property_type</th>\n",
              "    </tr>\n",
              "    <tr>\n",
              "      <th>property_type</th>\n",
              "      <th>self_employed</th>\n",
              "      <th>gender</th>\n",
              "      <th></th>\n",
              "    </tr>\n",
              "  </thead>\n",
              "  <tbody>\n",
              "    <tr>\n",
              "      <th rowspan=\"4\" valign=\"top\">apartment</th>\n",
              "      <th rowspan=\"2\" valign=\"top\">No</th>\n",
              "      <th>Female</th>\n",
              "      <td>32</td>\n",
              "    </tr>\n",
              "    <tr>\n",
              "      <th>Male</th>\n",
              "      <td>113</td>\n",
              "    </tr>\n",
              "    <tr>\n",
              "      <th rowspan=\"2\" valign=\"top\">Yes</th>\n",
              "      <th>Female</th>\n",
              "      <td>6</td>\n",
              "    </tr>\n",
              "    <tr>\n",
              "      <th>Male</th>\n",
              "      <td>13</td>\n",
              "    </tr>\n",
              "    <tr>\n",
              "      <th rowspan=\"4\" valign=\"top\">house</th>\n",
              "      <th rowspan=\"2\" valign=\"top\">No</th>\n",
              "      <th>Female</th>\n",
              "      <td>20</td>\n",
              "    </tr>\n",
              "    <tr>\n",
              "      <th>Male</th>\n",
              "      <td>100</td>\n",
              "    </tr>\n",
              "    <tr>\n",
              "      <th rowspan=\"2\" valign=\"top\">Yes</th>\n",
              "      <th>Female</th>\n",
              "      <td>2</td>\n",
              "    </tr>\n",
              "    <tr>\n",
              "      <th>Male</th>\n",
              "      <td>12</td>\n",
              "    </tr>\n",
              "    <tr>\n",
              "      <th rowspan=\"4\" valign=\"top\">studio</th>\n",
              "      <th rowspan=\"2\" valign=\"top\">No</th>\n",
              "      <th>Female</th>\n",
              "      <td>16</td>\n",
              "    </tr>\n",
              "    <tr>\n",
              "      <th>Male</th>\n",
              "      <td>82</td>\n",
              "    </tr>\n",
              "    <tr>\n",
              "      <th rowspan=\"2\" valign=\"top\">Yes</th>\n",
              "      <th>Female</th>\n",
              "      <td>2</td>\n",
              "    </tr>\n",
              "    <tr>\n",
              "      <th>Male</th>\n",
              "      <td>15</td>\n",
              "    </tr>\n",
              "  </tbody>\n",
              "</table>\n",
              "</div>"
            ],
            "text/plain": [
              "                                    property_type\n",
              "property_type self_employed gender               \n",
              "apartment     No            Female             32\n",
              "                            Male              113\n",
              "              Yes           Female              6\n",
              "                            Male               13\n",
              "house         No            Female             20\n",
              "                            Male              100\n",
              "              Yes           Female              2\n",
              "                            Male               12\n",
              "studio        No            Female             16\n",
              "                            Male               82\n",
              "              Yes           Female              2\n",
              "                            Male               15"
            ]
          },
          "execution_count": 49,
          "metadata": {},
          "output_type": "execute_result"
        }
      ],
      "source": [
        "new_df.groupby(['property_type', 'self_employed', 'gender']).agg({'property_type':'count'})"
      ]
    },
    {
      "cell_type": "code",
      "execution_count": 50,
      "id": "U6-BeZ3fYpnF",
      "metadata": {
        "id": "U6-BeZ3fYpnF"
      },
      "outputs": [
        {
          "data": {
            "image/png": "[encoded data removed]",
            "text/plain": [
              "<Figure size 1700x800 with 1 Axes>"
            ]
          },
          "metadata": {},
          "output_type": "display_data"
        }
      ],
      "source": [
        "plt.style.use('default')\n",
        "plt.figure(figsize=(17,8))\n",
        "\n",
        "ax = sns.countplot(x=new_df['property_type'], hue=new_df['self_employed'], \n",
        "                    data=new_df, palette=palette_colors, hue_order=['Yes','No'])\n",
        "\n",
        "# Hidden line for x and y \n",
        "ax.spines[\"top\"].set_visible(False)\n",
        "ax.spines[\"right\"].set_visible(False)\n",
        "ax.spines[\"bottom\"].set_visible(False)\n",
        "ax.spines[\"left\"].set_visible(False)\n",
        "\n",
        "# Customize ticks\n",
        "plt.tick_params(axis = 'y', which = 'both', left = False, \n",
        "                right = False, labelleft = False)\n",
        "plt.ylabel('')\n",
        "plt.tick_params(axis = 'x', which = 'both', bottom = True, \n",
        "                top = False, labelbottom = True, pad = 12)\n",
        "plt.xticks(np.arange(3), ['House', 'Studio', 'Apartement'], size = 14)\n",
        "plt.xlabel('')\n",
        "\n",
        "ax.set_title(label='Customer Interest based on Self Employed',\n",
        "              fontsize = 20, fontweight='bold', color='#73a1f0', pad=20)\n",
        "\n",
        "# Anote count value\n",
        "for container in ax.containers:\n",
        "  ax.bar_label(container)\n",
        "\n",
        "plt.tight_layout()\n",
        "plt.show()"
      ]
    },
    {
      "cell_type": "markdown",
      "id": "c43363d1",
      "metadata": {
        "id": "c43363d1"
      },
      "source": [
        "## Analisis pengaruh status perkawinan terhadap jangka waktu meminjam "
      ]
    },
    {
      "cell_type": "code",
      "execution_count": 51,
      "id": "IghJ23wQsfLV",
      "metadata": {
        "id": "IghJ23wQsfLV"
      },
      "outputs": [
        {
          "data": {
            "text/html": [
              "<div>\n",
              "<style scoped>\n",
              "    .dataframe tbody tr th:only-of-type {\n",
              "        vertical-align: middle;\n",
              "    }\n",
              "\n",
              "    .dataframe tbody tr th {\n",
              "        vertical-align: top;\n",
              "    }\n",
              "\n",
              "    .dataframe thead th {\n",
              "        text-align: right;\n",
              "    }\n",
              "</style>\n",
              "<table border=\"1\" class=\"dataframe\">\n",
              "  <thead>\n",
              "    <tr style=\"text-align: right;\">\n",
              "      <th></th>\n",
              "      <th></th>\n",
              "      <th>loan_term_month</th>\n",
              "    </tr>\n",
              "    <tr>\n",
              "      <th>loan_term_month</th>\n",
              "      <th>married</th>\n",
              "      <th></th>\n",
              "    </tr>\n",
              "  </thead>\n",
              "  <tbody>\n",
              "    <tr>\n",
              "      <th>36</th>\n",
              "      <th>No</th>\n",
              "      <td>2</td>\n",
              "    </tr>\n",
              "    <tr>\n",
              "      <th rowspan=\"2\" valign=\"top\">60</th>\n",
              "      <th>No</th>\n",
              "      <td>1</td>\n",
              "    </tr>\n",
              "    <tr>\n",
              "      <th>Yes</th>\n",
              "      <td>1</td>\n",
              "    </tr>\n",
              "    <tr>\n",
              "      <th>84</th>\n",
              "      <th>Yes</th>\n",
              "      <td>3</td>\n",
              "    </tr>\n",
              "    <tr>\n",
              "      <th rowspan=\"2\" valign=\"top\">120</th>\n",
              "      <th>No</th>\n",
              "      <td>1</td>\n",
              "    </tr>\n",
              "    <tr>\n",
              "      <th>Yes</th>\n",
              "      <td>1</td>\n",
              "    </tr>\n",
              "    <tr>\n",
              "      <th rowspan=\"2\" valign=\"top\">180</th>\n",
              "      <th>No</th>\n",
              "      <td>4</td>\n",
              "    </tr>\n",
              "    <tr>\n",
              "      <th>Yes</th>\n",
              "      <td>26</td>\n",
              "    </tr>\n",
              "    <tr>\n",
              "      <th>240</th>\n",
              "      <th>Yes</th>\n",
              "      <td>2</td>\n",
              "    </tr>\n",
              "    <tr>\n",
              "      <th rowspan=\"2\" valign=\"top\">300</th>\n",
              "      <th>No</th>\n",
              "      <td>3</td>\n",
              "    </tr>\n",
              "    <tr>\n",
              "      <th>Yes</th>\n",
              "      <td>5</td>\n",
              "    </tr>\n",
              "    <tr>\n",
              "      <th rowspan=\"2\" valign=\"top\">360</th>\n",
              "      <th>No</th>\n",
              "      <td>136</td>\n",
              "    </tr>\n",
              "    <tr>\n",
              "      <th>Yes</th>\n",
              "      <td>217</td>\n",
              "    </tr>\n",
              "    <tr>\n",
              "      <th rowspan=\"2\" valign=\"top\">480</th>\n",
              "      <th>No</th>\n",
              "      <td>6</td>\n",
              "    </tr>\n",
              "    <tr>\n",
              "      <th>Yes</th>\n",
              "      <td>5</td>\n",
              "    </tr>\n",
              "  </tbody>\n",
              "</table>\n",
              "</div>"
            ],
            "text/plain": [
              "                         loan_term_month\n",
              "loan_term_month married                 \n",
              "36              No                     2\n",
              "60              No                     1\n",
              "                Yes                    1\n",
              "84              Yes                    3\n",
              "120             No                     1\n",
              "                Yes                    1\n",
              "180             No                     4\n",
              "                Yes                   26\n",
              "240             Yes                    2\n",
              "300             No                     3\n",
              "                Yes                    5\n",
              "360             No                   136\n",
              "                Yes                  217\n",
              "480             No                     6\n",
              "                Yes                    5"
            ]
          },
          "execution_count": 51,
          "metadata": {},
          "output_type": "execute_result"
        }
      ],
      "source": [
        "new_df.groupby(['loan_term_month', 'married']).agg({'loan_term_month':'count'})"
      ]
    },
    {
      "cell_type": "code",
      "execution_count": 52,
      "id": "6f206911",
      "metadata": {
        "id": "6f206911"
      },
      "outputs": [
        {
          "data": {
            "image/png": "[encoded data removed]",
            "text/plain": [
              "<Figure size 1700x800 with 1 Axes>"
            ]
          },
          "metadata": {},
          "output_type": "display_data"
        }
      ],
      "source": [
        "plt.style.use('default')\n",
        "plt.figure(figsize=(17,8))\n",
        "\n",
        "value_unique = new_df.loan_term_month.unique().tolist()\n",
        "ax = sns.countplot(x=new_df['loan_term_month'], hue=new_df['married'], \n",
        "                    data=new_df, palette=palette_colors, hue_order=['No','Yes'])\n",
        "\n",
        "# Hidden line for x and y \n",
        "ax.spines[\"top\"].set_visible(False)\n",
        "ax.spines[\"right\"].set_visible(False)\n",
        "ax.spines[\"bottom\"].set_visible(False)\n",
        "ax.spines[\"left\"].set_visible(False)\n",
        "\n",
        "# Customize ticks\n",
        "plt.tick_params(axis = 'y', which = 'both', left = False, \n",
        "                right = False, labelleft = False)\n",
        "plt.ylabel('')\n",
        "plt.tick_params(axis = 'x', which = 'both', bottom = True, \n",
        "                top = False, labelbottom = True, pad = 12)\n",
        "plt.xticks(np.arange(len(value_unique)), value_unique, size = 14)\n",
        "plt.xlabel('')\n",
        "\n",
        "ax.set_title(label='Effect of Married to Monthly Loan',\n",
        "              fontsize = 20, fontweight='bold', color='#73a1f0', pad=20)\n",
        "\n",
        "# Anote count value\n",
        "for container in ax.containers:\n",
        "  ax.bar_label(container)\n",
        "\n",
        "plt.tight_layout()\n",
        "plt.show()"
      ]
    },
    {
      "cell_type": "code",
      "execution_count": 53,
      "id": "8DegC49ZsjTM",
      "metadata": {
        "id": "8DegC49ZsjTM"
      },
      "outputs": [
        {
          "data": {
            "text/html": [
              "<div>\n",
              "<style scoped>\n",
              "    .dataframe tbody tr th:only-of-type {\n",
              "        vertical-align: middle;\n",
              "    }\n",
              "\n",
              "    .dataframe tbody tr th {\n",
              "        vertical-align: top;\n",
              "    }\n",
              "\n",
              "    .dataframe thead th {\n",
              "        text-align: right;\n",
              "    }\n",
              "</style>\n",
              "<table border=\"1\" class=\"dataframe\">\n",
              "  <thead>\n",
              "    <tr style=\"text-align: right;\">\n",
              "      <th></th>\n",
              "      <th></th>\n",
              "      <th>loan_term_year</th>\n",
              "    </tr>\n",
              "    <tr>\n",
              "      <th>loan_term_year</th>\n",
              "      <th>married</th>\n",
              "      <th></th>\n",
              "    </tr>\n",
              "  </thead>\n",
              "  <tbody>\n",
              "    <tr>\n",
              "      <th>3</th>\n",
              "      <th>No</th>\n",
              "      <td>2</td>\n",
              "    </tr>\n",
              "    <tr>\n",
              "      <th rowspan=\"2\" valign=\"top\">5</th>\n",
              "      <th>No</th>\n",
              "      <td>1</td>\n",
              "    </tr>\n",
              "    <tr>\n",
              "      <th>Yes</th>\n",
              "      <td>1</td>\n",
              "    </tr>\n",
              "    <tr>\n",
              "      <th>7</th>\n",
              "      <th>Yes</th>\n",
              "      <td>3</td>\n",
              "    </tr>\n",
              "    <tr>\n",
              "      <th rowspan=\"2\" valign=\"top\">10</th>\n",
              "      <th>No</th>\n",
              "      <td>1</td>\n",
              "    </tr>\n",
              "    <tr>\n",
              "      <th>Yes</th>\n",
              "      <td>1</td>\n",
              "    </tr>\n",
              "    <tr>\n",
              "      <th rowspan=\"2\" valign=\"top\">15</th>\n",
              "      <th>No</th>\n",
              "      <td>4</td>\n",
              "    </tr>\n",
              "    <tr>\n",
              "      <th>Yes</th>\n",
              "      <td>26</td>\n",
              "    </tr>\n",
              "    <tr>\n",
              "      <th>20</th>\n",
              "      <th>Yes</th>\n",
              "      <td>2</td>\n",
              "    </tr>\n",
              "    <tr>\n",
              "      <th rowspan=\"2\" valign=\"top\">25</th>\n",
              "      <th>No</th>\n",
              "      <td>3</td>\n",
              "    </tr>\n",
              "    <tr>\n",
              "      <th>Yes</th>\n",
              "      <td>5</td>\n",
              "    </tr>\n",
              "    <tr>\n",
              "      <th rowspan=\"2\" valign=\"top\">30</th>\n",
              "      <th>No</th>\n",
              "      <td>136</td>\n",
              "    </tr>\n",
              "    <tr>\n",
              "      <th>Yes</th>\n",
              "      <td>217</td>\n",
              "    </tr>\n",
              "    <tr>\n",
              "      <th rowspan=\"2\" valign=\"top\">40</th>\n",
              "      <th>No</th>\n",
              "      <td>6</td>\n",
              "    </tr>\n",
              "    <tr>\n",
              "      <th>Yes</th>\n",
              "      <td>5</td>\n",
              "    </tr>\n",
              "  </tbody>\n",
              "</table>\n",
              "</div>"
            ],
            "text/plain": [
              "                        loan_term_year\n",
              "loan_term_year married                \n",
              "3              No                    2\n",
              "5              No                    1\n",
              "               Yes                   1\n",
              "7              Yes                   3\n",
              "10             No                    1\n",
              "               Yes                   1\n",
              "15             No                    4\n",
              "               Yes                  26\n",
              "20             Yes                   2\n",
              "25             No                    3\n",
              "               Yes                   5\n",
              "30             No                  136\n",
              "               Yes                 217\n",
              "40             No                    6\n",
              "               Yes                   5"
            ]
          },
          "execution_count": 53,
          "metadata": {},
          "output_type": "execute_result"
        }
      ],
      "source": [
        "new_df.groupby(['loan_term_year', 'married']).agg({'loan_term_year':'count'})"
      ]
    },
    {
      "cell_type": "code",
      "execution_count": 54,
      "id": "vNXMfbjyZIlN",
      "metadata": {
        "id": "vNXMfbjyZIlN"
      },
      "outputs": [
        {
          "data": {
            "image/png": "[encoded data removed]",
            "text/plain": [
              "<Figure size 1700x800 with 1 Axes>"
            ]
          },
          "metadata": {},
          "output_type": "display_data"
        }
      ],
      "source": [
        "plt.style.use('default')\n",
        "plt.figure(figsize=(17,8))\n",
        "\n",
        "value_unique = new_df.loan_term_year.unique().tolist()\n",
        "ax = sns.countplot(x=new_df['loan_term_year'], hue=new_df['married'], \n",
        "                    data=new_df, palette=palette_colors, hue_order=['No','Yes'])\n",
        "\n",
        "# Hidden line for x and y \n",
        "ax.spines[\"top\"].set_visible(False)\n",
        "ax.spines[\"right\"].set_visible(False)\n",
        "ax.spines[\"bottom\"].set_visible(False)\n",
        "ax.spines[\"left\"].set_visible(False)\n",
        "\n",
        "# Customize ticks\n",
        "plt.tick_params(axis = 'y', which = 'both', left = False, \n",
        "                right = False, labelleft = False)\n",
        "plt.ylabel('')\n",
        "plt.tick_params(axis = 'x', which = 'both', bottom = True, \n",
        "                top = False, labelbottom = True, pad = 12)\n",
        "plt.xticks(np.arange(len(value_unique)), value_unique, size = 14)\n",
        "plt.xlabel('')\n",
        "\n",
        "ax.set_title(label='Effect of Married to Annual Loan',\n",
        "              fontsize = 20, fontweight='bold', color='#73a1f0', pad=20)\n",
        "\n",
        "# Anote count value\n",
        "for container in ax.containers:\n",
        "  ax.bar_label(container)\n",
        "\n",
        "plt.tight_layout()\n",
        "plt.show()"
      ]
    }
  ],
  "metadata": {
    "colab": {
      "collapsed_sections": [],
      "provenance": []
    },
    "kernelspec": {
      "display_name": "Python 3.10.5 64-bit",
      "language": "python",
      "name": "python3"
    },
    "language_info": {
      "codemirror_mode": {
        "name": "ipython",
        "version": 3
      },
      "file_extension": ".py",
      "mimetype": "text/x-python",
      "name": "python",
      "nbconvert_exporter": "python",
      "pygments_lexer": "ipython3",
      "version": "3.10.5"
    },
    "vscode": {
      "interpreter": {
        "hash": "df95319d8ce4e1d89f5365ae10992bc1f65da593082b1d264e8f529830ec2f02"
      }
    }
  },
  "nbformat": 4,
  "nbformat_minor": 5
}
